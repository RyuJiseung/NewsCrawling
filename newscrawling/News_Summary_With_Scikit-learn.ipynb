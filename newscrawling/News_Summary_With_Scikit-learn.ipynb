{
 "cells": [
  {
   "cell_type": "code",
   "execution_count": 1,
   "metadata": {
    "collapsed": true
   },
   "outputs": [],
   "source": [
    "import pandas as pd\n",
    "import numpy as np\n",
    "import matplotlib.pyplot as plt\n",
    "from datetime import datetime\n",
    "from konlpy.tag import Komoran\n",
    "from konlpy.tag import Twitter\n",
    "from konlpy.tag import Kkma\n",
    "from konlpy.utils import pprint\n",
    "twitter = Twitter()\n",
    "komoran = Komoran()\n",
    "kkma = Kkma()\n",
    "\n",
    "%matplotlib inline"
   ]
  },
  {
   "cell_type": "code",
   "execution_count": 2,
   "metadata": {
    "collapsed": true
   },
   "outputs": [],
   "source": [
    "crawl = pd.read_csv(\"/Users/jinseokryu/newscrawling/newsCrawl.csv\")"
   ]
  },
  {
   "cell_type": "code",
   "execution_count": 3,
   "metadata": {
    "collapsed": true
   },
   "outputs": [],
   "source": [
    "data = crawl.reindex(columns=['title','source','date','article'])"
   ]
  },
  {
   "cell_type": "code",
   "execution_count": 4,
   "metadata": {
    "scrolled": true
   },
   "outputs": [
    {
     "data": {
      "text/html": [
       "<div>\n",
       "<style>\n",
       "    .dataframe thead tr:only-child th {\n",
       "        text-align: right;\n",
       "    }\n",
       "\n",
       "    .dataframe thead th {\n",
       "        text-align: left;\n",
       "    }\n",
       "\n",
       "    .dataframe tbody tr th {\n",
       "        vertical-align: top;\n",
       "    }\n",
       "</style>\n",
       "<table border=\"1\" class=\"dataframe\">\n",
       "  <thead>\n",
       "    <tr style=\"text-align: right;\">\n",
       "      <th></th>\n",
       "      <th>title</th>\n",
       "      <th>source</th>\n",
       "      <th>date</th>\n",
       "      <th>article</th>\n",
       "    </tr>\n",
       "  </thead>\n",
       "  <tbody>\n",
       "    <tr>\n",
       "      <th>0</th>\n",
       "      <td>크레인 사고 6일 만에, 삼성중공업 일부 작업장 조업 재개</td>\n",
       "      <td>중앙일보</td>\n",
       "      <td>20170506</td>\n",
       "      <td>크레인사고로 조업을 중단한 삼성중공업 거제조선소가 6일 일부 작업장에서 부분작업을 ...</td>\n",
       "    </tr>\n",
       "    <tr>\n",
       "      <th>1</th>\n",
       "      <td>'성희롱 사건'에 대한 유담의 똑 부러지는 한마디</td>\n",
       "      <td>중앙일보</td>\n",
       "      <td>20170506</td>\n",
       "      <td>6일 유승민 바른정당 대선후보의 딸 유담씨가 최근 불거진 성희롱 사건과 관련해 \"...</td>\n",
       "    </tr>\n",
       "    <tr>\n",
       "      <th>2</th>\n",
       "      <td>이세돌 9단, 文 지지선언..\"4년전 선거 복기 잘 한듯\"</td>\n",
       "      <td>중앙일보</td>\n",
       "      <td>20170506</td>\n",
       "      <td>이 9단은 \"이번 더불어민주당 경선에 참가한 후보 모두를 좋아한다\"며 \"경선 당시 ...</td>\n",
       "    </tr>\n",
       "    <tr>\n",
       "      <th>3</th>\n",
       "      <td>유승민 \"여론조사대로 결과 나오면 드라마 아냐..사표 걱정 말고 소신투표\" 호소</td>\n",
       "      <td>중앙일보</td>\n",
       "      <td>20170506</td>\n",
       "      <td>이곳 외에도 유 후보는 강남 가로수길, 서초 센트럴시티 등지에서 젊은층과 만나 \"여...</td>\n",
       "    </tr>\n",
       "    <tr>\n",
       "      <th>4</th>\n",
       "      <td>安 \"최순실보다 더한 김현철 손 든 文..적폐 주장은 적반하장\"</td>\n",
       "      <td>중앙일보</td>\n",
       "      <td>20170506</td>\n",
       "      <td>안철수 국민의당 대선후보가 6일 \"최순실보다 더한 국정농단으로 나라를 어지럽힌 장본...</td>\n",
       "    </tr>\n",
       "  </tbody>\n",
       "</table>\n",
       "</div>"
      ],
      "text/plain": [
       "                                          title source      date  \\\n",
       "0              크레인 사고 6일 만에, 삼성중공업 일부 작업장 조업 재개   중앙일보  20170506   \n",
       "1                   '성희롱 사건'에 대한 유담의 똑 부러지는 한마디   중앙일보  20170506   \n",
       "2              이세돌 9단, 文 지지선언..\"4년전 선거 복기 잘 한듯\"   중앙일보  20170506   \n",
       "3  유승민 \"여론조사대로 결과 나오면 드라마 아냐..사표 걱정 말고 소신투표\" 호소   중앙일보  20170506   \n",
       "4           安 \"최순실보다 더한 김현철 손 든 文..적폐 주장은 적반하장\"   중앙일보  20170506   \n",
       "\n",
       "                                             article  \n",
       "0  크레인사고로 조업을 중단한 삼성중공업 거제조선소가 6일 일부 작업장에서 부분작업을 ...  \n",
       "1   6일 유승민 바른정당 대선후보의 딸 유담씨가 최근 불거진 성희롱 사건과 관련해 \"...  \n",
       "2  이 9단은 \"이번 더불어민주당 경선에 참가한 후보 모두를 좋아한다\"며 \"경선 당시 ...  \n",
       "3  이곳 외에도 유 후보는 강남 가로수길, 서초 센트럴시티 등지에서 젊은층과 만나 \"여...  \n",
       "4  안철수 국민의당 대선후보가 6일 \"최순실보다 더한 국정농단으로 나라를 어지럽힌 장본...  "
      ]
     },
     "execution_count": 4,
     "metadata": {},
     "output_type": "execute_result"
    }
   ],
   "source": [
    "data.head()"
   ]
  },
  {
   "cell_type": "code",
   "execution_count": 5,
   "metadata": {
    "collapsed": true
   },
   "outputs": [],
   "source": [
    "data.sort_values(by='date',ascending=True,inplace=True)"
   ]
  },
  {
   "cell_type": "code",
   "execution_count": 6,
   "metadata": {},
   "outputs": [
    {
     "data": {
      "text/html": [
       "<div>\n",
       "<style>\n",
       "    .dataframe thead tr:only-child th {\n",
       "        text-align: right;\n",
       "    }\n",
       "\n",
       "    .dataframe thead th {\n",
       "        text-align: left;\n",
       "    }\n",
       "\n",
       "    .dataframe tbody tr th {\n",
       "        vertical-align: top;\n",
       "    }\n",
       "</style>\n",
       "<table border=\"1\" class=\"dataframe\">\n",
       "  <thead>\n",
       "    <tr style=\"text-align: right;\">\n",
       "      <th></th>\n",
       "      <th>title</th>\n",
       "      <th>source</th>\n",
       "      <th>date</th>\n",
       "      <th>article</th>\n",
       "    </tr>\n",
       "  </thead>\n",
       "  <tbody>\n",
       "    <tr>\n",
       "      <th>33</th>\n",
       "      <td>[통계뉴스]문재인 앞서고 안철수-홍준표 혼전 양상</td>\n",
       "      <td>동아일보</td>\n",
       "      <td>2017-05-01</td>\n",
       "      <td>지난주 대선후보 여론조사에서는 더불어민주당 문재인 후보와 국민의당 안철수 후보의 평...</td>\n",
       "    </tr>\n",
       "    <tr>\n",
       "      <th>25</th>\n",
       "      <td>'민주정책통합포럼' 선대위 편제..상임위원장에 조대엽</td>\n",
       "      <td>중앙일보</td>\n",
       "      <td>2017-05-01</td>\n",
       "      <td>민주정책통합포럼은 문 후보의 싱크탱크인 ‘정책공간 국민성장’을 기반으로 민주당 경선...</td>\n",
       "    </tr>\n",
       "    <tr>\n",
       "      <th>146</th>\n",
       "      <td>安, 민주노총 반발로 전태일 동상 앞 헌화 행사 취소</td>\n",
       "      <td>조선일보</td>\n",
       "      <td>2017-05-01</td>\n",
       "      <td>안철수 국민의당 대선후보가 근로자의 날인 1일 서울 청계천 전태일 동상 앞에서  ‘...</td>\n",
       "    </tr>\n",
       "    <tr>\n",
       "      <th>27</th>\n",
       "      <td>\"바른정당 의원 14명, 자유한국당 합류\"..홍준표 지지할듯</td>\n",
       "      <td>중앙일보</td>\n",
       "      <td>2017-05-01</td>\n",
       "      <td>바른정당 소속의원 14명이 자유한국당에 합류한다는 언론 보도가 나왔다. ,1일 이데...</td>\n",
       "    </tr>\n",
       "    <tr>\n",
       "      <th>28</th>\n",
       "      <td>[쓸·정] 대선 재외투표율 '역대 최다'가 우리에게 주는 의미</td>\n",
       "      <td>중앙일보</td>\n",
       "      <td>2017-05-01</td>\n",
       "      <td>제19대 대통령 선거 재외국민 투표가 30일(현지 시간)자로 종료됐습니다. 이번 재...</td>\n",
       "    </tr>\n",
       "  </tbody>\n",
       "</table>\n",
       "</div>"
      ],
      "text/plain": [
       "                                  title source       date  \\\n",
       "33          [통계뉴스]문재인 앞서고 안철수-홍준표 혼전 양상   동아일보 2017-05-01   \n",
       "25        '민주정책통합포럼' 선대위 편제..상임위원장에 조대엽   중앙일보 2017-05-01   \n",
       "146       安, 민주노총 반발로 전태일 동상 앞 헌화 행사 취소   조선일보 2017-05-01   \n",
       "27    \"바른정당 의원 14명, 자유한국당 합류\"..홍준표 지지할듯   중앙일보 2017-05-01   \n",
       "28   [쓸·정] 대선 재외투표율 '역대 최다'가 우리에게 주는 의미   중앙일보 2017-05-01   \n",
       "\n",
       "                                               article  \n",
       "33   지난주 대선후보 여론조사에서는 더불어민주당 문재인 후보와 국민의당 안철수 후보의 평...  \n",
       "25   민주정책통합포럼은 문 후보의 싱크탱크인 ‘정책공간 국민성장’을 기반으로 민주당 경선...  \n",
       "146  안철수 국민의당 대선후보가 근로자의 날인 1일 서울 청계천 전태일 동상 앞에서  ‘...  \n",
       "27   바른정당 소속의원 14명이 자유한국당에 합류한다는 언론 보도가 나왔다. ,1일 이데...  \n",
       "28   제19대 대통령 선거 재외국민 투표가 30일(현지 시간)자로 종료됐습니다. 이번 재...  "
      ]
     },
     "execution_count": 6,
     "metadata": {},
     "output_type": "execute_result"
    }
   ],
   "source": [
    "date_converter=lambda x: datetime.strptime(str(x),\"%Y%m%d\")\n",
    "data['date']=data['date'].apply(date_converter)\n",
    "data.head()"
   ]
  },
  {
   "cell_type": "code",
   "execution_count": 7,
   "metadata": {},
   "outputs": [
    {
     "data": {
      "text/plain": [
       "중앙일보    120\n",
       "조선일보    120\n",
       "동아일보    111\n",
       "Name: source, dtype: int64"
      ]
     },
     "execution_count": 7,
     "metadata": {},
     "output_type": "execute_result"
    }
   ],
   "source": [
    "data['source'].value_counts()"
   ]
  },
  {
   "cell_type": "code",
   "execution_count": 8,
   "metadata": {},
   "outputs": [
    {
     "data": {
      "text/html": [
       "<div>\n",
       "<style>\n",
       "    .dataframe thead tr:only-child th {\n",
       "        text-align: right;\n",
       "    }\n",
       "\n",
       "    .dataframe thead th {\n",
       "        text-align: left;\n",
       "    }\n",
       "\n",
       "    .dataframe tbody tr th {\n",
       "        vertical-align: top;\n",
       "    }\n",
       "</style>\n",
       "<table border=\"1\" class=\"dataframe\">\n",
       "  <thead>\n",
       "    <tr style=\"text-align: right;\">\n",
       "      <th></th>\n",
       "      <th></th>\n",
       "      <th>title</th>\n",
       "      <th>article</th>\n",
       "    </tr>\n",
       "    <tr>\n",
       "      <th>date</th>\n",
       "      <th>source</th>\n",
       "      <th></th>\n",
       "      <th></th>\n",
       "    </tr>\n",
       "  </thead>\n",
       "  <tbody>\n",
       "    <tr>\n",
       "      <th rowspan=\"5\" valign=\"top\">2017-05-01</th>\n",
       "      <th>동아일보</th>\n",
       "      <td>[통계뉴스]문재인 앞서고 안철수-홍준표 혼전 양상</td>\n",
       "      <td>지난주 대선후보 여론조사에서는 더불어민주당 문재인 후보와 국민의당 안철수 후보의 평...</td>\n",
       "    </tr>\n",
       "    <tr>\n",
       "      <th>중앙일보</th>\n",
       "      <td>'민주정책통합포럼' 선대위 편제..상임위원장에 조대엽</td>\n",
       "      <td>민주정책통합포럼은 문 후보의 싱크탱크인 ‘정책공간 국민성장’을 기반으로 민주당 경선...</td>\n",
       "    </tr>\n",
       "    <tr>\n",
       "      <th>조선일보</th>\n",
       "      <td>安, 민주노총 반발로 전태일 동상 앞 헌화 행사 취소</td>\n",
       "      <td>안철수 국민의당 대선후보가 근로자의 날인 1일 서울 청계천 전태일 동상 앞에서  ‘...</td>\n",
       "    </tr>\n",
       "    <tr>\n",
       "      <th>중앙일보</th>\n",
       "      <td>\"바른정당 의원 14명, 자유한국당 합류\"..홍준표 지지할듯</td>\n",
       "      <td>바른정당 소속의원 14명이 자유한국당에 합류한다는 언론 보도가 나왔다. ,1일 이데...</td>\n",
       "    </tr>\n",
       "    <tr>\n",
       "      <th>중앙일보</th>\n",
       "      <td>[쓸·정] 대선 재외투표율 '역대 최다'가 우리에게 주는 의미</td>\n",
       "      <td>제19대 대통령 선거 재외국민 투표가 30일(현지 시간)자로 종료됐습니다. 이번 재...</td>\n",
       "    </tr>\n",
       "  </tbody>\n",
       "</table>\n",
       "</div>"
      ],
      "text/plain": [
       "                                                title  \\\n",
       "date       source                                       \n",
       "2017-05-01 동아일보           [통계뉴스]문재인 앞서고 안철수-홍준표 혼전 양상   \n",
       "           중앙일보         '민주정책통합포럼' 선대위 편제..상임위원장에 조대엽   \n",
       "           조선일보         安, 민주노총 반발로 전태일 동상 앞 헌화 행사 취소   \n",
       "           중앙일보     \"바른정당 의원 14명, 자유한국당 합류\"..홍준표 지지할듯   \n",
       "           중앙일보    [쓸·정] 대선 재외투표율 '역대 최다'가 우리에게 주는 의미   \n",
       "\n",
       "                                                             article  \n",
       "date       source                                                     \n",
       "2017-05-01 동아일보    지난주 대선후보 여론조사에서는 더불어민주당 문재인 후보와 국민의당 안철수 후보의 평...  \n",
       "           중앙일보    민주정책통합포럼은 문 후보의 싱크탱크인 ‘정책공간 국민성장’을 기반으로 민주당 경선...  \n",
       "           조선일보    안철수 국민의당 대선후보가 근로자의 날인 1일 서울 청계천 전태일 동상 앞에서  ‘...  \n",
       "           중앙일보    바른정당 소속의원 14명이 자유한국당에 합류한다는 언론 보도가 나왔다. ,1일 이데...  \n",
       "           중앙일보    제19대 대통령 선거 재외국민 투표가 30일(현지 시간)자로 종료됐습니다. 이번 재...  "
      ]
     },
     "execution_count": 8,
     "metadata": {},
     "output_type": "execute_result"
    }
   ],
   "source": [
    "data.set_index(['date','source']).head()"
   ]
  },
  {
   "cell_type": "code",
   "execution_count": 9,
   "metadata": {
    "collapsed": true
   },
   "outputs": [],
   "source": [
    "from sklearn.feature_extraction.text import CountVectorizer"
   ]
  },
  {
   "cell_type": "code",
   "execution_count": 10,
   "metadata": {
    "collapsed": true
   },
   "outputs": [],
   "source": [
    "number=0\n",
    "pur=data.reindex(columns=['title','article'])\n",
    "test_title=pur['title'].iloc[number]\n",
    "test_article=pur['article'].iloc[number]\n",
    "test_article_list=kkma.sentences(test_article)\n",
    "total=test_title+\"\\n\"+test_article\n",
    "total_list=[test_title]+test_article_list"
   ]
  },
  {
   "cell_type": "code",
   "execution_count": 11,
   "metadata": {},
   "outputs": [
    {
     "name": "stdout",
     "output_type": "stream",
     "text": [
      "test_title: [통계뉴스]문재인 앞서고 안철수-홍준표 혼전 양상\n",
      "\n",
      "test_article: 지난주 대선후보 여론조사에서는 더불어민주당 문재인 후보와 국민의당 안철수 후보의 평균 지지율 격차가 더 벌어진 가운데 자유한국당 홍준표 후보의 지지율이 처음으로 두자리 수를 기록했습니다. ,[동아일보],22~28일 중앙선거관리위원회 중앙선거여론조사심의위원회에 등록된 여론조사 중 전국 단위, 5자구도 질문을 포함한 11건의 여론조사를 종합 분석해 평균치를 낸 결과입니다.,※한국리서치(내일신문), 리서치앤리서치, 한국사회여론연구소, 칸타코리아, 조원씨앤아이, 메트릭스코퍼레이션, 알앤써치, 한국리서치(한국일보·코리아타임즈), 리얼미터, 한국리서치(JTBC·25일 조사), 한국리서치(JTBC·26일 조사) 자료 종합,문 후보의 평균 지지율은 40.4%로 전주(42.5%) 대비 2.1%포인트 하락한 1위였는데요. ,2위 안 후보의 지지율은 30% 선이 무너졌습니다. 전주(32.8%) 대비 4.5%포인트 하락한 28.3%였죠. ,1,2위간 지지율 격차는 12.1%포인트 차. 전주(9.7%) 대비 2.4%포인트 더 벌어졌습니다. ,반면 3위 홍 후보는 ‘돼지발정제’ 논란에도 전주(9.5%) 대비 1.5%포인트 상승한 11.0%였습니다. ,4위 정의당 심상정 후보는 1.6%포인트 상승한 5.1%, 5위 바른정당 유승민 후보는 0.8%포인트 상승한 4.2%였습니다.,연령별 지지율은 차이가 있었는데요. ,심 후보는 19~29세(10.7%) 유권자 층에서 강세를 보였습니다. ,특히 한국리서치(한국일보·코리아타임즈) 여론조사에서는 심 후보의 19~29세 지지율이 17.8%로 안 후보(16.7%)를 제치고 2위를 차지하기도 했죠.,※각 여론조사와 관련한 자세한 내용은 중앙선거관리위원회 중앙선거여론조사심의위원회 홈페이지(www.nesdc.go.kr) 참조.\n",
      "\n",
      "test_article_list:  ['지난주 대선후보 여론조사에서는 더불어 민주당 문 재인 후보와 국민의 당 안 철수 후보의 평균 지지율 격차가 더 벌어진 가운데 자유 한국 당 홍 준 표 후보의 지지율이 처음으로 두 자리 수를 기록했습니다. ,', '[ 동아 일보] ,22 ~28 일 중앙선거관리 위원회 중앙선거 여론조사 심의 위원회에 등록된 여론조사 중 전국 단위, 5 자구도 질문을 포함한 11건의 여론조사를 종합 분석해 평균치를 낸 결과입니다.,', '※ 한국 리서치( 내일신문), 리서치 앤 리서치, 한국사회 여론 연구소, 칸 타 코리아, 조원 씨 앤 아이, 메트릭스 코퍼 레이션, 알 앤 써 치, 한국 리서치( 한국 일보· 코리아 타임즈), 리얼 미터, 한국 리서치 (JTBC ·25 일 조사), 한국 리서치 (JTBC ·26 일 조사) 자료 종합, 문 후보의 평균 지지율은 40.4% 로 전주 (42.5%) 대비 2.1% 포인트 하락한 1위였는데요. ,2 위 안 후보의 지지율은 30% 선이 무너졌습니다.', '전주 (32.8%) 대비 4.5% 포인트 하락한 28.3% 였죠. ,1 ,2', '위 간 지지율 격차는 12.1% 포인트 차. 전주 (9.7%) 대비 2.4% 포인트 더 벌어졌습니다. ,', '반면 3위 홍 후보는 ‘ 돼지발 정제’ 논란에도 전주 (9.5%) 대비 1.5% 포인트 상승한 11.0% 였습니다. ,4', '위 정의당 심상 정 후보는 1.6% 포인트 상승한 5.1%, 5위 바른 정당 유 승 민 후보는 0.8% 포인트 상승한 4.2% 였습니다.,', '연령별 지지율은 차이가 있었는데요. , 심 후보는 19~29 세 (10.7%) 유권자 층에서 강세를 보였습니다. ,', '특히 한국 리서치( 한국 일보· 코리아 타임즈) 여론조사에서는 심 후보의 19~29 세 지지율이 17.8% 로 안 후보 (16.7% )를 제치고 2위를 차지하기도 했죠.,', '※ 각 여론조사와 관련한 자세한 내용은 중앙선거관리 위원회 중앙선거 여론조사 심의 위원회 홈페이지 (www .nesdc .go .kr) 참조.'] \n",
      "\n",
      "total:  [통계뉴스]문재인 앞서고 안철수-홍준표 혼전 양상\n",
      "지난주 대선후보 여론조사에서는 더불어민주당 문재인 후보와 국민의당 안철수 후보의 평균 지지율 격차가 더 벌어진 가운데 자유한국당 홍준표 후보의 지지율이 처음으로 두자리 수를 기록했습니다. ,[동아일보],22~28일 중앙선거관리위원회 중앙선거여론조사심의위원회에 등록된 여론조사 중 전국 단위, 5자구도 질문을 포함한 11건의 여론조사를 종합 분석해 평균치를 낸 결과입니다.,※한국리서치(내일신문), 리서치앤리서치, 한국사회여론연구소, 칸타코리아, 조원씨앤아이, 메트릭스코퍼레이션, 알앤써치, 한국리서치(한국일보·코리아타임즈), 리얼미터, 한국리서치(JTBC·25일 조사), 한국리서치(JTBC·26일 조사) 자료 종합,문 후보의 평균 지지율은 40.4%로 전주(42.5%) 대비 2.1%포인트 하락한 1위였는데요. ,2위 안 후보의 지지율은 30% 선이 무너졌습니다. 전주(32.8%) 대비 4.5%포인트 하락한 28.3%였죠. ,1,2위간 지지율 격차는 12.1%포인트 차. 전주(9.7%) 대비 2.4%포인트 더 벌어졌습니다. ,반면 3위 홍 후보는 ‘돼지발정제’ 논란에도 전주(9.5%) 대비 1.5%포인트 상승한 11.0%였습니다. ,4위 정의당 심상정 후보는 1.6%포인트 상승한 5.1%, 5위 바른정당 유승민 후보는 0.8%포인트 상승한 4.2%였습니다.,연령별 지지율은 차이가 있었는데요. ,심 후보는 19~29세(10.7%) 유권자 층에서 강세를 보였습니다. ,특히 한국리서치(한국일보·코리아타임즈) 여론조사에서는 심 후보의 19~29세 지지율이 17.8%로 안 후보(16.7%)를 제치고 2위를 차지하기도 했죠.,※각 여론조사와 관련한 자세한 내용은 중앙선거관리위원회 중앙선거여론조사심의위원회 홈페이지(www.nesdc.go.kr) 참조. \n",
      "\n",
      "total_list:  ['[통계뉴스]문재인 앞서고 안철수-홍준표 혼전 양상', '지난주 대선후보 여론조사에서는 더불어 민주당 문 재인 후보와 국민의 당 안 철수 후보의 평균 지지율 격차가 더 벌어진 가운데 자유 한국 당 홍 준 표 후보의 지지율이 처음으로 두 자리 수를 기록했습니다. ,', '[ 동아 일보] ,22 ~28 일 중앙선거관리 위원회 중앙선거 여론조사 심의 위원회에 등록된 여론조사 중 전국 단위, 5 자구도 질문을 포함한 11건의 여론조사를 종합 분석해 평균치를 낸 결과입니다.,', '※ 한국 리서치( 내일신문), 리서치 앤 리서치, 한국사회 여론 연구소, 칸 타 코리아, 조원 씨 앤 아이, 메트릭스 코퍼 레이션, 알 앤 써 치, 한국 리서치( 한국 일보· 코리아 타임즈), 리얼 미터, 한국 리서치 (JTBC ·25 일 조사), 한국 리서치 (JTBC ·26 일 조사) 자료 종합, 문 후보의 평균 지지율은 40.4% 로 전주 (42.5%) 대비 2.1% 포인트 하락한 1위였는데요. ,2 위 안 후보의 지지율은 30% 선이 무너졌습니다.', '전주 (32.8%) 대비 4.5% 포인트 하락한 28.3% 였죠. ,1 ,2', '위 간 지지율 격차는 12.1% 포인트 차. 전주 (9.7%) 대비 2.4% 포인트 더 벌어졌습니다. ,', '반면 3위 홍 후보는 ‘ 돼지발 정제’ 논란에도 전주 (9.5%) 대비 1.5% 포인트 상승한 11.0% 였습니다. ,4', '위 정의당 심상 정 후보는 1.6% 포인트 상승한 5.1%, 5위 바른 정당 유 승 민 후보는 0.8% 포인트 상승한 4.2% 였습니다.,', '연령별 지지율은 차이가 있었는데요. , 심 후보는 19~29 세 (10.7%) 유권자 층에서 강세를 보였습니다. ,', '특히 한국 리서치( 한국 일보· 코리아 타임즈) 여론조사에서는 심 후보의 19~29 세 지지율이 17.8% 로 안 후보 (16.7% )를 제치고 2위를 차지하기도 했죠.,', '※ 각 여론조사와 관련한 자세한 내용은 중앙선거관리 위원회 중앙선거 여론조사 심의 위원회 홈페이지 (www .nesdc .go .kr) 참조.']\n"
     ]
    }
   ],
   "source": [
    "print(\"test_title: \" + test_title + \"\\n\")\n",
    "print(\"test_article: \" + test_article + \"\\n\")\n",
    "print(\"test_article_list: \",test_article_list , \"\\n\")\n",
    "print(\"total: \",total , \"\\n\")\n",
    "print(\"total_list: \",total_list)"
   ]
  },
  {
   "cell_type": "code",
   "execution_count": 12,
   "metadata": {},
   "outputs": [
    {
     "name": "stdout",
     "output_type": "stream",
     "text": [
      "<class 'str'>\n",
      "<class 'str'>\n",
      "<class 'list'>\n",
      "<class 'str'>\n",
      "<class 'list'>\n"
     ]
    }
   ],
   "source": [
    "print(type(test_title))\n",
    "print(type(test_article))\n",
    "print(type(test_article_list))\n",
    "print(type(total))\n",
    "print(type(total_list))"
   ]
  },
  {
   "cell_type": "markdown",
   "metadata": {},
   "source": [
    "# textrank 패키지 사용"
   ]
  },
  {
   "cell_type": "code",
   "execution_count": 49,
   "metadata": {},
   "outputs": [
    {
     "name": "stdout",
     "output_type": "stream",
     "text": [
      ",1,2위간 지지율 격차는 12.1%포인트 차.\n",
      ",반면 3위 홍 후보는 ‘돼지발정제’ 논란에도 전주(9.5%) 대비 1.5%포인트 상승한 11.0%였습니다.\n",
      ",특히 한국리서치(한국일보·코리아타임즈) 여론조사에서는 심 후보의 19~29세 지지율이 17.8%로 안 후보(16.7%)를 제치고 2위를 차지하기도 했죠.,※각 여론조사와 관련한 자세한 내용은 중앙선거관리위원회 중앙선거여론조사심의위원회 홈페이지(www.nesdc.go.kr) 참조.\n"
     ]
    }
   ],
   "source": [
    "from __future__ import print_function\n",
    "from textrankr import TextRank\n",
    "\n",
    "textrank = TextRank(test_article)\n",
    "print(textrank.summarize())"
   ]
  },
  {
   "cell_type": "code",
   "execution_count": 50,
   "metadata": {
    "scrolled": true
   },
   "outputs": [
    {
     "data": {
      "text/plain": [
       "'지난주 대선후보 여론조사에서는 더불어민주당 문재인 후보와 국민의당 안철수 후보의 평균 지지율 격차가 더 벌어진 가운데 자유한국당 홍준표 후보의 지지율이 처음으로 두자리 수를 기록했습니다. ,[동아일보],22~28일 중앙선거관리위원회 중앙선거여론조사심의위원회에 등록된 여론조사 중 전국 단위, 5자구도 질문을 포함한 11건의 여론조사를 종합 분석해 평균치를 낸 결과입니다.,※한국리서치(내일신문), 리서치앤리서치, 한국사회여론연구소, 칸타코리아, 조원씨앤아이, 메트릭스코퍼레이션, 알앤써치, 한국리서치(한국일보·코리아타임즈), 리얼미터, 한국리서치(JTBC·25일 조사), 한국리서치(JTBC·26일 조사) 자료 종합,문 후보의 평균 지지율은 40.4%로 전주(42.5%) 대비 2.1%포인트 하락한 1위였는데요. ,2위 안 후보의 지지율은 30% 선이 무너졌습니다. 전주(32.8%) 대비 4.5%포인트 하락한 28.3%였죠. ,1,2위간 지지율 격차는 12.1%포인트 차. 전주(9.7%) 대비 2.4%포인트 더 벌어졌습니다. ,반면 3위 홍 후보는 ‘돼지발정제’ 논란에도 전주(9.5%) 대비 1.5%포인트 상승한 11.0%였습니다. ,4위 정의당 심상정 후보는 1.6%포인트 상승한 5.1%, 5위 바른정당 유승민 후보는 0.8%포인트 상승한 4.2%였습니다.,연령별 지지율은 차이가 있었는데요. ,심 후보는 19~29세(10.7%) 유권자 층에서 강세를 보였습니다. ,특히 한국리서치(한국일보·코리아타임즈) 여론조사에서는 심 후보의 19~29세 지지율이 17.8%로 안 후보(16.7%)를 제치고 2위를 차지하기도 했죠.,※각 여론조사와 관련한 자세한 내용은 중앙선거관리위원회 중앙선거여론조사심의위원회 홈페이지(www.nesdc.go.kr) 참조.'"
      ]
     },
     "execution_count": 50,
     "metadata": {},
     "output_type": "execute_result"
    }
   ],
   "source": [
    "test_article"
   ]
  },
  {
   "cell_type": "markdown",
   "metadata": {},
   "source": [
    "# lextrank 패키지 사용"
   ]
  },
  {
   "cell_type": "code",
   "execution_count": 51,
   "metadata": {},
   "outputs": [
    {
     "name": "stdout",
     "output_type": "stream",
     "text": [
      ",반면 3위 홍 후보는 ‘돼지발정제’ 논란에도 전주(9.5%) 대비 1.5%포인트 상승한 11.0%였습니다\n",
      ",4위 정의당 심상정 후보는 1.6%포인트 상승한 5.1%, 5위 바른정당 유승민 후보는 0.8%포인트 상승한 4.2%였습니다.,연령별 지지율은 차이가 있었는데요\n"
     ]
    }
   ],
   "source": [
    "from __future__ import print_function\n",
    "from lexrankr import LexRank\n",
    "\n",
    "lexrank = LexRank()  # can init with various settings\n",
    "lexrank.summarize(test_article)\n",
    "summaries = lexrank.probe(None)  # `num_summaries` can be `None` (using auto-detected topics)\n",
    "for summary in summaries:\n",
    "    print(summary)"
   ]
  },
  {
   "cell_type": "code",
   "execution_count": 52,
   "metadata": {},
   "outputs": [
    {
     "data": {
      "text/plain": [
       "'지난주 대선후보 여론조사에서는 더불어민주당 문재인 후보와 국민의당 안철수 후보의 평균 지지율 격차가 더 벌어진 가운데 자유한국당 홍준표 후보의 지지율이 처음으로 두자리 수를 기록했습니다. ,[동아일보],22~28일 중앙선거관리위원회 중앙선거여론조사심의위원회에 등록된 여론조사 중 전국 단위, 5자구도 질문을 포함한 11건의 여론조사를 종합 분석해 평균치를 낸 결과입니다.,※한국리서치(내일신문), 리서치앤리서치, 한국사회여론연구소, 칸타코리아, 조원씨앤아이, 메트릭스코퍼레이션, 알앤써치, 한국리서치(한국일보·코리아타임즈), 리얼미터, 한국리서치(JTBC·25일 조사), 한국리서치(JTBC·26일 조사) 자료 종합,문 후보의 평균 지지율은 40.4%로 전주(42.5%) 대비 2.1%포인트 하락한 1위였는데요. ,2위 안 후보의 지지율은 30% 선이 무너졌습니다. 전주(32.8%) 대비 4.5%포인트 하락한 28.3%였죠. ,1,2위간 지지율 격차는 12.1%포인트 차. 전주(9.7%) 대비 2.4%포인트 더 벌어졌습니다. ,반면 3위 홍 후보는 ‘돼지발정제’ 논란에도 전주(9.5%) 대비 1.5%포인트 상승한 11.0%였습니다. ,4위 정의당 심상정 후보는 1.6%포인트 상승한 5.1%, 5위 바른정당 유승민 후보는 0.8%포인트 상승한 4.2%였습니다.,연령별 지지율은 차이가 있었는데요. ,심 후보는 19~29세(10.7%) 유권자 층에서 강세를 보였습니다. ,특히 한국리서치(한국일보·코리아타임즈) 여론조사에서는 심 후보의 19~29세 지지율이 17.8%로 안 후보(16.7%)를 제치고 2위를 차지하기도 했죠.,※각 여론조사와 관련한 자세한 내용은 중앙선거관리위원회 중앙선거여론조사심의위원회 홈페이지(www.nesdc.go.kr) 참조.'"
      ]
     },
     "execution_count": 52,
     "metadata": {},
     "output_type": "execute_result"
    }
   ],
   "source": [
    "test_article"
   ]
  },
  {
   "cell_type": "markdown",
   "metadata": {},
   "source": [
    "# space bar 기준으로 나눈 것 분류하기"
   ]
  },
  {
   "cell_type": "code",
   "execution_count": 53,
   "metadata": {},
   "outputs": [
    {
     "name": "stdout",
     "output_type": "stream",
     "text": [
      "CountVectorizer(analyzer='word', binary=False, decode_error='strict',\n",
      "        dtype=<class 'numpy.int64'>, encoding='utf-8', input='content',\n",
      "        lowercase=True, max_df=1.0, max_features=None, min_df=2,\n",
      "        ngram_range=(1, 1), preprocessor=None, stop_words=None,\n",
      "        strip_accents=None, token_pattern='(?u)\\\\b\\\\w\\\\w+\\\\b',\n",
      "        tokenizer=None, vocabulary=None)\n"
     ]
    }
   ],
   "source": [
    "vectorizer = CountVectorizer(min_df=2)\n",
    "#단어주머니를 만들기 전에 속성값을 지정해줘야 한다.\n",
    "print(vectorizer)\n",
    "X_train = vectorizer.fit_transform(test_article_list)"
   ]
  },
  {
   "cell_type": "code",
   "execution_count": 54,
   "metadata": {},
   "outputs": [
    {
     "name": "stdout",
     "output_type": "stream",
     "text": [
      "\n",
      "<post_vec>\n",
      "   (0, 18)\t1\n",
      "  (0, 24)\t1\n",
      "  (0, 16)\t1\n",
      "  (0, 21)\t1\n",
      "  (0, 26)\t2\n",
      "  (0, 8)\t1\n",
      "  (1, 13)\t1\n",
      "  (1, 6)\t1\n",
      "  (1, 7)\t2\n",
      "  (1, 14)\t1\n",
      "  (1, 10)\t1\n",
      "  (1, 15)\t1\n",
      "  (1, 1)\t1\n",
      "  (1, 11)\t1\n",
      "  (2, 23)\t1\n",
      "  (2, 22)\t1\n",
      "  (2, 3)\t1\n",
      "  (2, 12)\t1\n",
      "  (2, 17)\t2\n",
      "  (2, 20)\t1\n",
      "  (2, 19)\t2\n",
      "  (2, 4)\t6\n",
      "  (2, 13)\t1\n",
      "  (2, 11)\t1\n",
      "  (2, 24)\t5\n",
      "  :\t:\n",
      "  (5, 3)\t1\n",
      "  (5, 12)\t1\n",
      "  (6, 9)\t1\n",
      "  (6, 5)\t2\n",
      "  (6, 25)\t2\n",
      "  (6, 22)\t2\n",
      "  (7, 2)\t1\n",
      "  (7, 0)\t1\n",
      "  (7, 25)\t1\n",
      "  (7, 17)\t1\n",
      "  (8, 2)\t1\n",
      "  (8, 0)\t1\n",
      "  (8, 20)\t1\n",
      "  (8, 19)\t1\n",
      "  (8, 4)\t1\n",
      "  (8, 11)\t1\n",
      "  (8, 18)\t1\n",
      "  (8, 24)\t2\n",
      "  (8, 26)\t1\n",
      "  (8, 8)\t1\n",
      "  (9, 6)\t1\n",
      "  (9, 7)\t1\n",
      "  (9, 14)\t1\n",
      "  (9, 10)\t2\n",
      "  (9, 15)\t1\n",
      "\n",
      "<post_vec array form>\n",
      " [[0 0 0 0 0 0 0 0 1 0 0 0 0 0 0 0 1 0 1 0 0 1 0 0 1 0 2]\n",
      " [0 1 0 0 0 0 1 2 0 0 1 1 0 1 1 1 0 0 0 0 0 0 0 0 0 0 0]\n",
      " [0 0 0 1 6 0 0 0 0 0 0 1 1 1 0 0 0 2 0 2 1 1 1 1 5 0 2]\n",
      " [0 1 0 1 0 0 0 0 0 0 0 0 1 0 0 0 0 0 0 0 0 0 1 1 0 0 0]\n",
      " [0 0 0 1 0 0 0 0 0 0 0 0 1 0 0 0 1 0 0 0 0 0 2 0 0 0 0]\n",
      " [0 0 0 1 0 1 0 0 0 1 0 0 1 0 0 0 0 0 0 0 0 0 1 0 0 1 0]\n",
      " [0 0 0 0 0 2 0 0 0 1 0 0 0 0 0 0 0 0 0 0 0 0 2 0 0 2 0]\n",
      " [1 0 1 0 0 0 0 0 0 0 0 0 0 0 0 0 0 1 0 0 0 0 0 0 0 1 0]\n",
      " [1 0 1 0 1 0 0 0 1 0 0 1 0 0 0 0 0 0 1 1 1 0 0 0 2 0 1]\n",
      " [0 0 0 0 0 0 1 1 0 0 2 0 0 0 1 1 0 0 0 0 0 0 0 0 0 0 0]]\n",
      "\n",
      "#sample: 10, #features: 27\n",
      "\n",
      "feature_names = ['19', '28', '29', '대비', '리서치', '상승한', '심의', '여론조사', '여론조사에서는', '였습니다', '위원회', '일보', '전주', '종합', '중앙선거', '중앙선거관리', '지지율', '지지율은', '지지율이', '코리아', '타임즈', '평균', '포인트', '하락한', '한국', '후보는', '후보의']\n"
     ]
    }
   ],
   "source": [
    "print(\"\\n<post_vec>\\n\",X_train)\n",
    "print(\"\\n<post_vec array form>\\n\",X_train.toarray())\n",
    "num_samples, num_features = X_train.shape\n",
    "#vectorizer가 예상 단어를 알 수 있도록 vectorizer에게 전체 데이터셋을 알려야 한다.\n",
    "\n",
    "print(\"\\n#sample: %d, #features: %d\" % (num_samples,num_features))\n",
    "#e5개의 게시물에는 25개의 각기 다른 단어가 있다.\n",
    "print(\"\\nfeature_names =\",vectorizer.get_feature_names())\n",
    "#25개의 각기 다른 단어들을 출력해보았다."
   ]
  },
  {
   "cell_type": "code",
   "execution_count": 55,
   "metadata": {},
   "outputs": [
    {
     "data": {
      "text/plain": [
       "array([ 7,  9, 25,  5,  5,  6,  7,  4, 11,  6], dtype=int64)"
      ]
     },
     "execution_count": 55,
     "metadata": {},
     "output_type": "execute_result"
    }
   ],
   "source": [
    "sum(X_train.toarray().T)"
   ]
  },
  {
   "cell_type": "code",
   "execution_count": 56,
   "metadata": {},
   "outputs": [
    {
     "data": {
      "text/plain": [
       "[False, True, True, False, False, False, False, False, True, False]"
      ]
     },
     "execution_count": 56,
     "metadata": {},
     "output_type": "execute_result"
    }
   ],
   "source": [
    "check=list(sum(X_train.toarray().T)/num_features > 0.3)\n",
    "check"
   ]
  },
  {
   "cell_type": "code",
   "execution_count": 57,
   "metadata": {
    "collapsed": true
   },
   "outputs": [],
   "source": [
    "len_test=len(sum(X_train.toarray().T))"
   ]
  },
  {
   "cell_type": "code",
   "execution_count": 58,
   "metadata": {},
   "outputs": [
    {
     "data": {
      "text/plain": [
       "[1, 2, 8]"
      ]
     },
     "execution_count": 58,
     "metadata": {},
     "output_type": "execute_result"
    }
   ],
   "source": [
    "test_index=[i for i in range(len_test) if check[i]==True]\n",
    "test_index"
   ]
  },
  {
   "cell_type": "code",
   "execution_count": 59,
   "metadata": {},
   "outputs": [
    {
     "name": "stdout",
     "output_type": "stream",
     "text": [
      "[ 동아 일보] ,22 ~28 일 중앙선거관리 위원회 중앙선거 여론조사 심의 위원회에 등록된 여론조사 중 전국 단위, 5 자구도 질문을 포함한 11건의 여론조사를 종합 분석해 평균치를 낸 결과입니다.,\n",
      "※ 한국 리서치( 내일신문), 리서치 앤 리서치, 한국사회 여론 연구소, 칸 타 코리아, 조원 씨 앤 아이, 메트릭스 코퍼 레이션, 알 앤 써 치, 한국 리서치( 한국 일보· 코리아 타임즈), 리얼 미터, 한국 리서치 (JTBC ·25 일 조사), 한국 리서치 (JTBC ·26 일 조사) 자료 종합, 문 후보의 평균 지지율은 40.4% 로 전주 (42.5%) 대비 2.1% 포인트 하락한 1위였는데요. ,2 위 안 후보의 지지율은 30% 선이 무너졌습니다.\n",
      "특히 한국 리서치( 한국 일보· 코리아 타임즈) 여론조사에서는 심 후보의 19~29 세 지지율이 17.8% 로 안 후보 (16.7% )를 제치고 2위를 차지하기도 했죠.,\n"
     ]
    }
   ],
   "source": [
    "for i in test_index:\n",
    "    print(test_article_list[i])"
   ]
  },
  {
   "cell_type": "code",
   "execution_count": 60,
   "metadata": {},
   "outputs": [
    {
     "data": {
      "text/plain": [
       "'지난주 대선후보 여론조사에서는 더불어민주당 문재인 후보와 국민의당 안철수 후보의 평균 지지율 격차가 더 벌어진 가운데 자유한국당 홍준표 후보의 지지율이 처음으로 두자리 수를 기록했습니다. ,[동아일보],22~28일 중앙선거관리위원회 중앙선거여론조사심의위원회에 등록된 여론조사 중 전국 단위, 5자구도 질문을 포함한 11건의 여론조사를 종합 분석해 평균치를 낸 결과입니다.,※한국리서치(내일신문), 리서치앤리서치, 한국사회여론연구소, 칸타코리아, 조원씨앤아이, 메트릭스코퍼레이션, 알앤써치, 한국리서치(한국일보·코리아타임즈), 리얼미터, 한국리서치(JTBC·25일 조사), 한국리서치(JTBC·26일 조사) 자료 종합,문 후보의 평균 지지율은 40.4%로 전주(42.5%) 대비 2.1%포인트 하락한 1위였는데요. ,2위 안 후보의 지지율은 30% 선이 무너졌습니다. 전주(32.8%) 대비 4.5%포인트 하락한 28.3%였죠. ,1,2위간 지지율 격차는 12.1%포인트 차. 전주(9.7%) 대비 2.4%포인트 더 벌어졌습니다. ,반면 3위 홍 후보는 ‘돼지발정제’ 논란에도 전주(9.5%) 대비 1.5%포인트 상승한 11.0%였습니다. ,4위 정의당 심상정 후보는 1.6%포인트 상승한 5.1%, 5위 바른정당 유승민 후보는 0.8%포인트 상승한 4.2%였습니다.,연령별 지지율은 차이가 있었는데요. ,심 후보는 19~29세(10.7%) 유권자 층에서 강세를 보였습니다. ,특히 한국리서치(한국일보·코리아타임즈) 여론조사에서는 심 후보의 19~29세 지지율이 17.8%로 안 후보(16.7%)를 제치고 2위를 차지하기도 했죠.,※각 여론조사와 관련한 자세한 내용은 중앙선거관리위원회 중앙선거여론조사심의위원회 홈페이지(www.nesdc.go.kr) 참조.'"
      ]
     },
     "execution_count": 60,
     "metadata": {},
     "output_type": "execute_result"
    }
   ],
   "source": [
    "test_article"
   ]
  },
  {
   "cell_type": "code",
   "execution_count": 61,
   "metadata": {},
   "outputs": [
    {
     "data": {
      "text/plain": [
       "'[통계뉴스]문재인 앞서고 안철수-홍준표 혼전 양상'"
      ]
     },
     "execution_count": 61,
     "metadata": {},
     "output_type": "execute_result"
    }
   ],
   "source": [
    "test_title"
   ]
  },
  {
   "cell_type": "markdown",
   "metadata": {
    "collapsed": true
   },
   "source": [
    "# 추가작업 : 명사로 자르기 + 많이 나온 단어에 가중치 주기 + title내용 포함"
   ]
  },
  {
   "cell_type": "code",
   "execution_count": 62,
   "metadata": {},
   "outputs": [
    {
     "data": {
      "text/plain": [
       "['통계',\n",
       " '뉴스',\n",
       " '문재인',\n",
       " '안철수',\n",
       " '홍준표',\n",
       " '혼전',\n",
       " '양상',\n",
       " '지난주',\n",
       " '대선',\n",
       " '후보',\n",
       " '여론조사',\n",
       " '민주당',\n",
       " '문재인',\n",
       " '후보',\n",
       " '국민의당',\n",
       " '안철수',\n",
       " '후보',\n",
       " '평균',\n",
       " '지지율',\n",
       " '격차',\n",
       " '더',\n",
       " '가운데',\n",
       " '자유',\n",
       " '한국',\n",
       " '홍준표',\n",
       " '후보',\n",
       " '지지율',\n",
       " '처음',\n",
       " '자리',\n",
       " '수',\n",
       " '기록',\n",
       " '동아일보',\n",
       " '일',\n",
       " '중앙',\n",
       " '선거',\n",
       " '관리',\n",
       " '위원회',\n",
       " '중앙',\n",
       " '선거',\n",
       " '여론조사',\n",
       " '심의',\n",
       " '위원회',\n",
       " '등록',\n",
       " '여론조사',\n",
       " '중',\n",
       " '전국',\n",
       " '단위',\n",
       " '자구',\n",
       " '질문',\n",
       " '건의',\n",
       " '여론조사',\n",
       " '종합',\n",
       " '평균',\n",
       " '결과',\n",
       " '한국',\n",
       " '리서치',\n",
       " '내일',\n",
       " '신문',\n",
       " '리서치',\n",
       " '앤',\n",
       " '리서치',\n",
       " '한국',\n",
       " '사회',\n",
       " '여론',\n",
       " '연구소',\n",
       " '칸타',\n",
       " '코리아',\n",
       " '조원',\n",
       " '앤',\n",
       " '아이',\n",
       " '메',\n",
       " '트릭',\n",
       " '스',\n",
       " '코퍼레이션',\n",
       " '알',\n",
       " '앤써',\n",
       " '치',\n",
       " '한국',\n",
       " '리서치',\n",
       " '한국',\n",
       " '일보',\n",
       " '코리아타임즈',\n",
       " '리얼미터',\n",
       " '한국',\n",
       " '리서치',\n",
       " '일',\n",
       " '조사',\n",
       " '한국',\n",
       " '리서치',\n",
       " '일',\n",
       " '조사',\n",
       " '자료',\n",
       " '종합',\n",
       " '문',\n",
       " '후보',\n",
       " '평균',\n",
       " '지지율',\n",
       " '로',\n",
       " '전주',\n",
       " '대비',\n",
       " '포인트',\n",
       " '하락',\n",
       " '위',\n",
       " '위',\n",
       " '안',\n",
       " '후보',\n",
       " '지지율',\n",
       " '선',\n",
       " '전주',\n",
       " '대비',\n",
       " '포인트',\n",
       " '하락',\n",
       " '위',\n",
       " '지지율',\n",
       " '격차',\n",
       " '포인트',\n",
       " '차',\n",
       " '전주',\n",
       " '대비',\n",
       " '포인트',\n",
       " '더',\n",
       " '반면',\n",
       " '위',\n",
       " '홍',\n",
       " '후보',\n",
       " '돼지',\n",
       " '발정',\n",
       " '제',\n",
       " '논란',\n",
       " '전주',\n",
       " '대비',\n",
       " '포인트',\n",
       " '상승',\n",
       " '위',\n",
       " '정의당',\n",
       " '심상정',\n",
       " '후보',\n",
       " '포인트',\n",
       " '상승',\n",
       " '위',\n",
       " '정당',\n",
       " '유승민',\n",
       " '후보',\n",
       " '포인트',\n",
       " '상승',\n",
       " '연령',\n",
       " '별',\n",
       " '지지율',\n",
       " '차이',\n",
       " '심',\n",
       " '후보',\n",
       " '세',\n",
       " '유권자',\n",
       " '층',\n",
       " '강세',\n",
       " '한국',\n",
       " '리서치',\n",
       " '한국',\n",
       " '일보',\n",
       " '코리아타임즈',\n",
       " '여론조사',\n",
       " '심',\n",
       " '후보',\n",
       " '세',\n",
       " '지지율',\n",
       " '로',\n",
       " '안',\n",
       " '후보',\n",
       " '를',\n",
       " '제',\n",
       " '위',\n",
       " '기도',\n",
       " '각',\n",
       " '여론조사',\n",
       " '내용',\n",
       " '중앙',\n",
       " '선거',\n",
       " '관리',\n",
       " '위원회',\n",
       " '중앙',\n",
       " '선거',\n",
       " '여론조사',\n",
       " '심의',\n",
       " '위원회',\n",
       " '홈페이지',\n",
       " '참조']"
      ]
     },
     "execution_count": 62,
     "metadata": {},
     "output_type": "execute_result"
    }
   ],
   "source": [
    "from konlpy.tag import Hannanum\n",
    "from konlpy.tag import Komoran\n",
    "from konlpy.tag import Twitter\n",
    "from konlpy.tag import Kkma\n",
    "from konlpy.utils import pprint\n",
    "twitter = Twitter()\n",
    "doc=twitter.nouns(total)\n",
    "doc"
   ]
  },
  {
   "cell_type": "code",
   "execution_count": 63,
   "metadata": {},
   "outputs": [
    {
     "name": "stdout",
     "output_type": "stream",
     "text": [
      "후보        12\n",
      "한국         9\n",
      "리서치        7\n",
      "포인트        7\n",
      "지지율        7\n",
      "위          7\n",
      "여론조사       7\n",
      "위원회        4\n",
      "선거         4\n",
      "중앙         4\n",
      "대비         4\n",
      "전주         4\n",
      "상승         3\n",
      "평균         3\n",
      "일          3\n",
      "문재인        2\n",
      "조사         2\n",
      "종합         2\n",
      "로          2\n",
      "앤          2\n",
      "일보         2\n",
      "홍준표        2\n",
      "관리         2\n",
      "더          2\n",
      "안철수        2\n",
      "하락         2\n",
      "심          2\n",
      "코리아타임즈     2\n",
      "격차         2\n",
      "제          2\n",
      "          ..\n",
      "층          1\n",
      "알          1\n",
      "홍          1\n",
      "결과         1\n",
      "신문         1\n",
      "리얼미터       1\n",
      "중          1\n",
      "코리아        1\n",
      "자리         1\n",
      "칸타         1\n",
      "자유         1\n",
      "메          1\n",
      "정당         1\n",
      "국민의당       1\n",
      "처음         1\n",
      "트릭         1\n",
      "사회         1\n",
      "단위         1\n",
      "별          1\n",
      "유승민        1\n",
      "반면         1\n",
      "앤써         1\n",
      "지난주        1\n",
      "내일         1\n",
      "강세         1\n",
      "대선         1\n",
      "심상정        1\n",
      "문          1\n",
      "발정         1\n",
      "뉴스         1\n",
      "Length: 98, dtype: int64\n",
      "['후보', '한국', '리서치', '포인트', '지지율', '위', '여론조사', '위원회', '선거', '중앙', '대비', '전주', '상승', '평균', '일', '문재인', '조사', '종합', '로', '앤', '일보', '홍준표', '관리', '더', '안철수', '하락', '심', '코리아타임즈', '격차', '제', '안', '심의', '세']\n",
      "[12  9  7  7  7  7  7  4  4  4  4  4  3  3  3  2  2  2  2  2  2  2  2  2  2\n",
      "  2  2  2  2  2  2  2  2]\n"
     ]
    }
   ],
   "source": [
    "docs=pd.Series(doc)\n",
    "print(docs.value_counts())\n",
    "select_docs=docs.value_counts()[docs.value_counts()>1]\n",
    "\n",
    "max_words=list(pd.DataFrame(select_docs).index)\n",
    "count_words=select_docs.values\n",
    "print(max_words)\n",
    "print(count_words)"
   ]
  },
  {
   "cell_type": "code",
   "execution_count": 64,
   "metadata": {},
   "outputs": [
    {
     "name": "stdout",
     "output_type": "stream",
     "text": [
      "\n",
      "<post_vec>\n",
      "   (0, 16)\t1\n",
      "  (0, 18)\t1\n",
      "  (0, 21)\t1\n",
      "  (1, 7)\t1\n",
      "  (1, 9)\t2\n",
      "  (1, 10)\t1\n",
      "  (1, 11)\t1\n",
      "  (1, 14)\t1\n",
      "  (2, 2)\t1\n",
      "  (2, 3)\t6\n",
      "  (2, 11)\t1\n",
      "  (2, 12)\t1\n",
      "  (2, 13)\t2\n",
      "  (2, 14)\t1\n",
      "  (2, 18)\t1\n",
      "  (2, 19)\t1\n",
      "  (2, 21)\t5\n",
      "  (3, 2)\t1\n",
      "  (3, 12)\t1\n",
      "  (3, 19)\t1\n",
      "  (4, 2)\t1\n",
      "  (4, 12)\t1\n",
      "  (4, 16)\t1\n",
      "  (4, 19)\t2\n",
      "  (5, 2)\t1\n",
      "  (5, 12)\t1\n",
      "  (5, 19)\t1\n",
      "  (6, 19)\t2\n",
      "  (8, 3)\t1\n",
      "  (8, 11)\t1\n",
      "  (8, 21)\t2\n",
      "  (8, 23)\t1\n",
      "  (9, 7)\t1\n",
      "  (9, 9)\t1\n",
      "  (9, 10)\t2\n",
      "\n",
      "<post_vec array form>\n",
      " [[0 0 0 0 0 0 0 0 0 0 0 0 0 0 0 0 1 0 1 0 0 1 0 0]\n",
      " [0 0 0 0 0 0 0 1 0 2 1 1 0 0 1 0 0 0 0 0 0 0 0 0]\n",
      " [0 0 1 6 0 0 0 0 0 0 0 1 1 2 1 0 0 0 1 1 0 5 0 0]\n",
      " [0 0 1 0 0 0 0 0 0 0 0 0 1 0 0 0 0 0 0 1 0 0 0 0]\n",
      " [0 0 1 0 0 0 0 0 0 0 0 0 1 0 0 0 1 0 0 2 0 0 0 0]\n",
      " [0 0 1 0 0 0 0 0 0 0 0 0 1 0 0 0 0 0 0 1 0 0 0 0]\n",
      " [0 0 0 0 0 0 0 0 0 0 0 0 0 0 0 0 0 0 0 2 0 0 0 0]\n",
      " [0 0 0 0 0 0 0 0 0 0 0 0 0 0 0 0 0 0 0 0 0 0 0 0]\n",
      " [0 0 0 1 0 0 0 0 0 0 0 1 0 0 0 0 0 0 0 0 0 2 0 1]\n",
      " [0 0 0 0 0 0 0 1 0 1 2 0 0 0 0 0 0 0 0 0 0 0 0 0]]\n",
      "\n",
      "#sample: 10, #features: 24\n",
      "\n",
      "feature_names = ['격차', '관리', '대비', '리서치', '문재인', '상승', '선거', '심의', '안철수', '여론조사', '위원회', '일보', '전주', '조사', '종합', '중앙', '지지율', '코리아타임즈', '평균', '포인트', '하락', '한국', '홍준표', '후보']\n"
     ]
    }
   ],
   "source": [
    "vect = CountVectorizer().fit(max_words)\n",
    "doc_train = vect.transform(test_article_list)\n",
    "\n",
    "print(\"\\n<post_vec>\\n\",doc_train)\n",
    "print(\"\\n<post_vec array form>\\n\",doc_train.toarray())\n",
    "doc_num_samples, doc_num_features = doc_train.shape\n",
    "#vectorizer가 예상 단어를 알 수 있도록 vectorizer에게 전체 데이터셋을 알려야 한다.\n",
    "\n",
    "print(\"\\n#sample: %d, #features: %d\" % (doc_num_samples,doc_num_features))\n",
    "#e5개의 게시물에는 25개의 각기 다른 단어가 있다.\n",
    "print(\"\\nfeature_names =\",vect.get_feature_names())\n",
    "#25개의 각기 다른 단어들을 출력해보았다."
   ]
  },
  {
   "cell_type": "code",
   "execution_count": 65,
   "metadata": {},
   "outputs": [
    {
     "data": {
      "text/plain": [
       "['격차',\n",
       " '관리',\n",
       " '대비',\n",
       " '리서치',\n",
       " '문재인',\n",
       " '상승',\n",
       " '선거',\n",
       " '심의',\n",
       " '안철수',\n",
       " '여론조사',\n",
       " '위원회',\n",
       " '일보',\n",
       " '전주',\n",
       " '조사',\n",
       " '종합',\n",
       " '중앙',\n",
       " '지지율',\n",
       " '코리아타임즈',\n",
       " '평균',\n",
       " '포인트',\n",
       " '하락',\n",
       " '한국',\n",
       " '홍준표',\n",
       " '후보']"
      ]
     },
     "execution_count": 65,
     "metadata": {},
     "output_type": "execute_result"
    }
   ],
   "source": [
    "vect.get_feature_names()"
   ]
  },
  {
   "cell_type": "code",
   "execution_count": 66,
   "metadata": {},
   "outputs": [
    {
     "data": {
      "text/plain": [
       "[28,\n",
       " 22,\n",
       " 10,\n",
       " 2,\n",
       " 15,\n",
       " 12,\n",
       " 8,\n",
       " 31,\n",
       " 24,\n",
       " 6,\n",
       " 7,\n",
       " 20,\n",
       " 11,\n",
       " 16,\n",
       " 17,\n",
       " 9,\n",
       " 4,\n",
       " 27,\n",
       " 13,\n",
       " 3,\n",
       " 25,\n",
       " 1,\n",
       " 21,\n",
       " 0]"
      ]
     },
     "execution_count": 66,
     "metadata": {},
     "output_type": "execute_result"
    }
   ],
   "source": [
    "words_which_index=[max_words.index(i) for i in vect.get_feature_names()]\n",
    "words_which_index"
   ]
  },
  {
   "cell_type": "code",
   "execution_count": 71,
   "metadata": {},
   "outputs": [
    {
     "data": {
      "text/html": [
       "<div>\n",
       "<style>\n",
       "    .dataframe thead tr:only-child th {\n",
       "        text-align: right;\n",
       "    }\n",
       "\n",
       "    .dataframe thead th {\n",
       "        text-align: left;\n",
       "    }\n",
       "\n",
       "    .dataframe tbody tr th {\n",
       "        vertical-align: top;\n",
       "    }\n",
       "</style>\n",
       "<table border=\"1\" class=\"dataframe\">\n",
       "  <thead>\n",
       "    <tr style=\"text-align: right;\">\n",
       "      <th></th>\n",
       "      <th>count</th>\n",
       "      <th>word</th>\n",
       "    </tr>\n",
       "  </thead>\n",
       "  <tbody>\n",
       "    <tr>\n",
       "      <th>0</th>\n",
       "      <td>2</td>\n",
       "      <td>격차</td>\n",
       "    </tr>\n",
       "    <tr>\n",
       "      <th>1</th>\n",
       "      <td>2</td>\n",
       "      <td>관리</td>\n",
       "    </tr>\n",
       "    <tr>\n",
       "      <th>2</th>\n",
       "      <td>4</td>\n",
       "      <td>대비</td>\n",
       "    </tr>\n",
       "    <tr>\n",
       "      <th>3</th>\n",
       "      <td>7</td>\n",
       "      <td>리서치</td>\n",
       "    </tr>\n",
       "    <tr>\n",
       "      <th>4</th>\n",
       "      <td>2</td>\n",
       "      <td>문재인</td>\n",
       "    </tr>\n",
       "    <tr>\n",
       "      <th>5</th>\n",
       "      <td>3</td>\n",
       "      <td>상승</td>\n",
       "    </tr>\n",
       "    <tr>\n",
       "      <th>6</th>\n",
       "      <td>4</td>\n",
       "      <td>선거</td>\n",
       "    </tr>\n",
       "    <tr>\n",
       "      <th>7</th>\n",
       "      <td>2</td>\n",
       "      <td>심의</td>\n",
       "    </tr>\n",
       "    <tr>\n",
       "      <th>8</th>\n",
       "      <td>2</td>\n",
       "      <td>안철수</td>\n",
       "    </tr>\n",
       "    <tr>\n",
       "      <th>9</th>\n",
       "      <td>7</td>\n",
       "      <td>여론조사</td>\n",
       "    </tr>\n",
       "    <tr>\n",
       "      <th>10</th>\n",
       "      <td>4</td>\n",
       "      <td>위원회</td>\n",
       "    </tr>\n",
       "    <tr>\n",
       "      <th>11</th>\n",
       "      <td>2</td>\n",
       "      <td>일보</td>\n",
       "    </tr>\n",
       "    <tr>\n",
       "      <th>12</th>\n",
       "      <td>4</td>\n",
       "      <td>전주</td>\n",
       "    </tr>\n",
       "    <tr>\n",
       "      <th>13</th>\n",
       "      <td>2</td>\n",
       "      <td>조사</td>\n",
       "    </tr>\n",
       "    <tr>\n",
       "      <th>14</th>\n",
       "      <td>2</td>\n",
       "      <td>종합</td>\n",
       "    </tr>\n",
       "    <tr>\n",
       "      <th>15</th>\n",
       "      <td>4</td>\n",
       "      <td>중앙</td>\n",
       "    </tr>\n",
       "    <tr>\n",
       "      <th>16</th>\n",
       "      <td>7</td>\n",
       "      <td>지지율</td>\n",
       "    </tr>\n",
       "    <tr>\n",
       "      <th>17</th>\n",
       "      <td>2</td>\n",
       "      <td>코리아타임즈</td>\n",
       "    </tr>\n",
       "    <tr>\n",
       "      <th>18</th>\n",
       "      <td>3</td>\n",
       "      <td>평균</td>\n",
       "    </tr>\n",
       "    <tr>\n",
       "      <th>19</th>\n",
       "      <td>7</td>\n",
       "      <td>포인트</td>\n",
       "    </tr>\n",
       "    <tr>\n",
       "      <th>20</th>\n",
       "      <td>2</td>\n",
       "      <td>하락</td>\n",
       "    </tr>\n",
       "    <tr>\n",
       "      <th>21</th>\n",
       "      <td>9</td>\n",
       "      <td>한국</td>\n",
       "    </tr>\n",
       "    <tr>\n",
       "      <th>22</th>\n",
       "      <td>2</td>\n",
       "      <td>홍준표</td>\n",
       "    </tr>\n",
       "    <tr>\n",
       "      <th>23</th>\n",
       "      <td>12</td>\n",
       "      <td>후보</td>\n",
       "    </tr>\n",
       "  </tbody>\n",
       "</table>\n",
       "</div>"
      ],
      "text/plain": [
       "    count    word\n",
       "0       2      격차\n",
       "1       2      관리\n",
       "2       4      대비\n",
       "3       7     리서치\n",
       "4       2     문재인\n",
       "5       3      상승\n",
       "6       4      선거\n",
       "7       2      심의\n",
       "8       2     안철수\n",
       "9       7    여론조사\n",
       "10      4     위원회\n",
       "11      2      일보\n",
       "12      4      전주\n",
       "13      2      조사\n",
       "14      2      종합\n",
       "15      4      중앙\n",
       "16      7     지지율\n",
       "17      2  코리아타임즈\n",
       "18      3      평균\n",
       "19      7     포인트\n",
       "20      2      하락\n",
       "21      9      한국\n",
       "22      2     홍준표\n",
       "23     12      후보"
      ]
     },
     "execution_count": 71,
     "metadata": {},
     "output_type": "execute_result"
    }
   ],
   "source": [
    "words_converter = lambda x: max_words[x]\n",
    "count_converter = lambda x: count_words[x]\n",
    "words_matrix=pd.Series(words_which_index).apply(words_converter)\n",
    "count_matrix=pd.Series(words_which_index).apply(count_converter)\n",
    "new_matrix=pd.DataFrame({'word': words_matrix,'count': count_matrix})\n",
    "new_matrix\n",
    "#weight"
   ]
  },
  {
   "cell_type": "code",
   "execution_count": 68,
   "metadata": {
    "scrolled": true
   },
   "outputs": [
    {
     "data": {
      "text/plain": [
       "array([[0, 0, 0, 0, 0, 0, 0, 0, 0, 0, 0, 0, 0, 0, 0, 0, 1, 0, 1, 0, 0, 1,\n",
       "        0, 0],\n",
       "       [0, 0, 0, 0, 0, 0, 0, 1, 0, 2, 1, 1, 0, 0, 1, 0, 0, 0, 0, 0, 0, 0,\n",
       "        0, 0],\n",
       "       [0, 0, 1, 6, 0, 0, 0, 0, 0, 0, 0, 1, 1, 2, 1, 0, 0, 0, 1, 1, 0, 5,\n",
       "        0, 0],\n",
       "       [0, 0, 1, 0, 0, 0, 0, 0, 0, 0, 0, 0, 1, 0, 0, 0, 0, 0, 0, 1, 0, 0,\n",
       "        0, 0],\n",
       "       [0, 0, 1, 0, 0, 0, 0, 0, 0, 0, 0, 0, 1, 0, 0, 0, 1, 0, 0, 2, 0, 0,\n",
       "        0, 0],\n",
       "       [0, 0, 1, 0, 0, 0, 0, 0, 0, 0, 0, 0, 1, 0, 0, 0, 0, 0, 0, 1, 0, 0,\n",
       "        0, 0],\n",
       "       [0, 0, 0, 0, 0, 0, 0, 0, 0, 0, 0, 0, 0, 0, 0, 0, 0, 0, 0, 2, 0, 0,\n",
       "        0, 0],\n",
       "       [0, 0, 0, 0, 0, 0, 0, 0, 0, 0, 0, 0, 0, 0, 0, 0, 0, 0, 0, 0, 0, 0,\n",
       "        0, 0],\n",
       "       [0, 0, 0, 1, 0, 0, 0, 0, 0, 0, 0, 1, 0, 0, 0, 0, 0, 0, 0, 0, 0, 2,\n",
       "        0, 1],\n",
       "       [0, 0, 0, 0, 0, 0, 0, 1, 0, 1, 2, 0, 0, 0, 0, 0, 0, 0, 0, 0, 0, 0,\n",
       "        0, 0]])"
      ]
     },
     "execution_count": 68,
     "metadata": {},
     "output_type": "execute_result"
    }
   ],
   "source": [
    "doc_train.toarray()"
   ]
  },
  {
   "cell_type": "code",
   "execution_count": 73,
   "metadata": {
    "scrolled": false
   },
   "outputs": [
    {
     "name": "stderr",
     "output_type": "stream",
     "text": [
      "/Users/jinseokryu/anaconda/envs/tensorflow/lib/python3.5/site-packages/ipykernel_launcher.py:1: DeprecationWarning: \n",
      ".ix is deprecated. Please use\n",
      ".loc for label based indexing or\n",
      ".iloc for positional indexing\n",
      "\n",
      "See the documentation here:\n",
      "http://pandas.pydata.org/pandas-docs/stable/indexing.html#deprecate_ix\n",
      "  \"\"\"Entry point for launching an IPython kernel.\n"
     ]
    },
    {
     "data": {
      "text/plain": [
       "array([19, 24, 113, 15, 29, 15, 14, 0, 39, 17], dtype=object)"
      ]
     },
     "execution_count": 73,
     "metadata": {},
     "output_type": "execute_result"
    }
   ],
   "source": [
    "doc_check=np.array(pd.DataFrame(np.dot(doc_train.toarray(),new_matrix)).ix[:,0])\n",
    "doc_check\n",
    "#weight준 값"
   ]
  },
  {
   "cell_type": "code",
   "execution_count": 74,
   "metadata": {},
   "outputs": [
    {
     "data": {
      "text/plain": [
       "array([False, False,  True, False,  True, False, False, False,  True, False], dtype=bool)"
      ]
     },
     "execution_count": 74,
     "metadata": {},
     "output_type": "execute_result"
    }
   ],
   "source": [
    "doc_index = np.array(doc_check/sum(doc_check) > 1/len(doc_check))\n",
    "doc_index\n",
    "#평균이상인 것들만 추출"
   ]
  },
  {
   "cell_type": "code",
   "execution_count": 75,
   "metadata": {},
   "outputs": [
    {
     "data": {
      "text/plain": [
       "[2, 4, 8]"
      ]
     },
     "execution_count": 75,
     "metadata": {},
     "output_type": "execute_result"
    }
   ],
   "source": [
    "doc_test_index=[i for i in range(len(doc_index)) if doc_index[i]==True]\n",
    "doc_test_index"
   ]
  },
  {
   "cell_type": "code",
   "execution_count": 76,
   "metadata": {
    "scrolled": true
   },
   "outputs": [
    {
     "name": "stdout",
     "output_type": "stream",
     "text": [
      "※ 한국 리서치( 내일신문), 리서치 앤 리서치, 한국사회 여론 연구소, 칸 타 코리아, 조원 씨 앤 아이, 메트릭스 코퍼 레이션, 알 앤 써 치, 한국 리서치( 한국 일보· 코리아 타임즈), 리얼 미터, 한국 리서치 (JTBC ·25 일 조사), 한국 리서치 (JTBC ·26 일 조사) 자료 종합, 문 후보의 평균 지지율은 40.4% 로 전주 (42.5%) 대비 2.1% 포인트 하락한 1위였는데요. ,2 위 안 후보의 지지율은 30% 선이 무너졌습니다.\n",
      "위 간 지지율 격차는 12.1% 포인트 차. 전주 (9.7%) 대비 2.4% 포인트 더 벌어졌습니다. ,\n",
      "특히 한국 리서치( 한국 일보· 코리아 타임즈) 여론조사에서는 심 후보의 19~29 세 지지율이 17.8% 로 안 후보 (16.7% )를 제치고 2위를 차지하기도 했죠.,\n"
     ]
    }
   ],
   "source": [
    "for i in doc_test_index:\n",
    "    print(test_article_list[i])"
   ]
  },
  {
   "cell_type": "code",
   "execution_count": 77,
   "metadata": {},
   "outputs": [
    {
     "name": "stdout",
     "output_type": "stream",
     "text": [
      "지난주 대선후보 여론조사에서는 더불어민주당 문재인 후보와 국민의당 안철수 후보의 평균 지지율 격차가 더 벌어진 가운데 자유한국당 홍준표 후보의 지지율이 처음으로 두자리 수를 기록했습니다. ,[동아일보],22~28일 중앙선거관리위원회 중앙선거여론조사심의위원회에 등록된 여론조사 중 전국 단위, 5자구도 질문을 포함한 11건의 여론조사를 종합 분석해 평균치를 낸 결과입니다.,※한국리서치(내일신문), 리서치앤리서치, 한국사회여론연구소, 칸타코리아, 조원씨앤아이, 메트릭스코퍼레이션, 알앤써치, 한국리서치(한국일보·코리아타임즈), 리얼미터, 한국리서치(JTBC·25일 조사), 한국리서치(JTBC·26일 조사) 자료 종합,문 후보의 평균 지지율은 40.4%로 전주(42.5%) 대비 2.1%포인트 하락한 1위였는데요. ,2위 안 후보의 지지율은 30% 선이 무너졌습니다. 전주(32.8%) 대비 4.5%포인트 하락한 28.3%였죠. ,1,2위간 지지율 격차는 12.1%포인트 차. 전주(9.7%) 대비 2.4%포인트 더 벌어졌습니다. ,반면 3위 홍 후보는 ‘돼지발정제’ 논란에도 전주(9.5%) 대비 1.5%포인트 상승한 11.0%였습니다. ,4위 정의당 심상정 후보는 1.6%포인트 상승한 5.1%, 5위 바른정당 유승민 후보는 0.8%포인트 상승한 4.2%였습니다.,연령별 지지율은 차이가 있었는데요. ,심 후보는 19~29세(10.7%) 유권자 층에서 강세를 보였습니다. ,특히 한국리서치(한국일보·코리아타임즈) 여론조사에서는 심 후보의 19~29세 지지율이 17.8%로 안 후보(16.7%)를 제치고 2위를 차지하기도 했죠.,※각 여론조사와 관련한 자세한 내용은 중앙선거관리위원회 중앙선거여론조사심의위원회 홈페이지(www.nesdc.go.kr) 참조.\n"
     ]
    }
   ],
   "source": [
    "print(test_article)"
   ]
  },
  {
   "cell_type": "code",
   "execution_count": 78,
   "metadata": {},
   "outputs": [
    {
     "data": {
      "text/plain": [
       "'[통계뉴스]문재인 앞서고 안철수-홍준표 혼전 양상'"
      ]
     },
     "execution_count": 78,
     "metadata": {},
     "output_type": "execute_result"
    }
   ],
   "source": [
    "test_title"
   ]
  },
  {
   "cell_type": "markdown",
   "metadata": {},
   "source": [
    "# 추가작업 : 제목에 가중치 주기"
   ]
  },
  {
   "cell_type": "code",
   "execution_count": 88,
   "metadata": {},
   "outputs": [
    {
     "name": "stdout",
     "output_type": "stream",
     "text": [
      "후보        12\n",
      "한국         9\n",
      "포인트        7\n",
      "리서치        7\n",
      "지지율        7\n",
      "여론조사       7\n",
      "위          7\n",
      "전주         4\n",
      "선거         4\n",
      "중앙         4\n",
      "대비         4\n",
      "위원회        4\n",
      "일          3\n",
      "상승         3\n",
      "평균         3\n",
      "일보         2\n",
      "로          2\n",
      "앤          2\n",
      "격차         2\n",
      "종합         2\n",
      "관리         2\n",
      "조사         2\n",
      "더          2\n",
      "제          2\n",
      "세          2\n",
      "심의         2\n",
      "안          2\n",
      "심          2\n",
      "코리아타임즈     2\n",
      "하락         2\n",
      "          ..\n",
      "질문         1\n",
      "선          1\n",
      "기록         1\n",
      "층          1\n",
      "홍          1\n",
      "결과         1\n",
      "정당         1\n",
      "리얼미터       1\n",
      "코리아        1\n",
      "자리         1\n",
      "칸타         1\n",
      "자유         1\n",
      "메          1\n",
      "앤써         1\n",
      "국민의당       1\n",
      "처음         1\n",
      "신문         1\n",
      "트릭         1\n",
      "단위         1\n",
      "별          1\n",
      "내용         1\n",
      "반면         1\n",
      "지난주        1\n",
      "내일         1\n",
      "대선         1\n",
      "심상정        1\n",
      "문          1\n",
      "유승민        1\n",
      "발정         1\n",
      "수          1\n",
      "Length: 94, dtype: int64\n",
      "12 \n",
      "\n",
      "['통계', '뉴스', '문재인', '안철수', '홍준표', '혼전', '양상', '통계', '뉴스', '문재인', '안철수', '홍준표', '혼전', '양상', '통계', '뉴스', '문재인', '안철수', '홍준표', '혼전', '양상', '통계', '뉴스', '문재인', '안철수', '홍준표', '혼전', '양상', '통계', '뉴스', '문재인', '안철수', '홍준표', '혼전', '양상', '통계', '뉴스', '문재인', '안철수', '홍준표', '혼전', '양상', '통계', '뉴스', '문재인', '안철수', '홍준표', '혼전', '양상', '통계', '뉴스', '문재인', '안철수', '홍준표', '혼전', '양상', '통계', '뉴스', '문재인', '안철수', '홍준표', '혼전', '양상', '통계', '뉴스', '문재인', '안철수', '홍준표', '혼전', '양상', '통계', '뉴스', '문재인', '안철수', '홍준표', '혼전', '양상', '통계', '뉴스', '문재인', '안철수', '홍준표', '혼전', '양상'] \n",
      "\n",
      "['지난주', '대선', '후보', '여론조사', '민주당', '문재인', '후보', '국민의당', '안철수', '후보', '평균', '지지율', '격차', '더', '가운데', '자유', '한국', '홍준표', '후보', '지지율', '처음', '자리', '수', '기록', '동아일보', '일', '중앙', '선거', '관리', '위원회', '중앙', '선거', '여론조사', '심의', '위원회', '등록', '여론조사', '중', '전국', '단위', '자구', '질문', '건의', '여론조사', '종합', '평균', '결과', '한국', '리서치', '내일', '신문', '리서치', '앤', '리서치', '한국', '사회', '여론', '연구소', '칸타', '코리아', '조원', '앤', '아이', '메', '트릭', '스', '코퍼레이션', '알', '앤써', '치', '한국', '리서치', '한국', '일보', '코리아타임즈', '리얼미터', '한국', '리서치', '일', '조사', '한국', '리서치', '일', '조사', '자료', '종합', '문', '후보', '평균', '지지율', '로', '전주', '대비', '포인트', '하락', '위', '위', '안', '후보', '지지율', '선', '전주', '대비', '포인트', '하락', '위', '지지율', '격차', '포인트', '차', '전주', '대비', '포인트', '더', '반면', '위', '홍', '후보', '돼지', '발정', '제', '논란', '전주', '대비', '포인트', '상승', '위', '정의당', '심상정', '후보', '포인트', '상승', '위', '정당', '유승민', '후보', '포인트', '상승', '연령', '별', '지지율', '차이', '심', '후보', '세', '유권자', '층', '강세', '한국', '리서치', '한국', '일보', '코리아타임즈', '여론조사', '심', '후보', '세', '지지율', '로', '안', '후보', '를', '제', '위', '기도', '각', '여론조사', '내용', '중앙', '선거', '관리', '위원회', '중앙', '선거', '여론조사', '심의', '위원회', '홈페이지', '참조', '통계', '뉴스', '문재인', '안철수', '홍준표', '혼전', '양상', '통계', '뉴스', '문재인', '안철수', '홍준표', '혼전', '양상', '통계', '뉴스', '문재인', '안철수', '홍준표', '혼전', '양상', '통계', '뉴스', '문재인', '안철수', '홍준표', '혼전', '양상', '통계', '뉴스', '문재인', '안철수', '홍준표', '혼전', '양상', '통계', '뉴스', '문재인', '안철수', '홍준표', '혼전', '양상', '통계', '뉴스', '문재인', '안철수', '홍준표', '혼전', '양상', '통계', '뉴스', '문재인', '안철수', '홍준표', '혼전', '양상', '통계', '뉴스', '문재인', '안철수', '홍준표', '혼전', '양상', '통계', '뉴스', '문재인', '안철수', '홍준표', '혼전', '양상', '통계', '뉴스', '문재인', '안철수', '홍준표', '혼전', '양상', '통계', '뉴스', '문재인', '안철수', '홍준표', '혼전', '양상'] \n",
      "\n"
     ]
    }
   ],
   "source": [
    "from konlpy.tag import Hannanum\n",
    "from konlpy.tag import Komoran\n",
    "from konlpy.tag import Twitter\n",
    "from konlpy.tag import Kkma\n",
    "from konlpy.utils import pprint\n",
    "twitter = Twitter()\n",
    "doc=twitter.nouns(test_article)\n",
    "max=np.array(pd.Series(doc).value_counts())[0]\n",
    "#제목에 들어간 단어들은 article에 들어간 가장 많이 나온 단어의 횟수만큼 더해줌\n",
    "print(pd.Series(doc).value_counts())\n",
    "print(max,\"\\n\")\n",
    "doc_t=list(twitter.nouns(test_title))*max\n",
    "print(doc_t,\"\\n\")\n",
    "total_doc=doc+doc_t\n",
    "print(total_doc,\"\\n\")"
   ]
  },
  {
   "cell_type": "code",
   "execution_count": 89,
   "metadata": {},
   "outputs": [
    {
     "name": "stdout",
     "output_type": "stream",
     "text": [
      "['문재인', '홍준표', '안철수', '뉴스', '통계', '후보', '양상', '혼전', '한국', '포인트', '여론조사', '위', '지지율', '리서치', '전주', '선거', '중앙', '위원회', '대비', '평균', '일', '상승', '코리아타임즈', '격차', '앤', '로', '심', '안', '일보', '하락', '세', '심의', '관리', '더', '종합', '조사', '제']\n",
      "[13 13 13 12 12 12 12 12  9  7  7  7  7  7  4  4  4  4  4  3  3  3  2  2  2\n",
      "  2  2  2  2  2  2  2  2  2  2  2  2]\n"
     ]
    }
   ],
   "source": [
    "totals=pd.Series(total_doc)\n",
    "\n",
    "select_totals=totals.value_counts()[totals.value_counts()>1]\n",
    "\n",
    "totals_max_words=list(pd.DataFrame(select_totals).index)\n",
    "totals_count_words=select_totals.values\n",
    "print(totals_max_words)\n",
    "print(totals_count_words)"
   ]
  },
  {
   "cell_type": "code",
   "execution_count": 90,
   "metadata": {
    "scrolled": true
   },
   "outputs": [
    {
     "name": "stdout",
     "output_type": "stream",
     "text": [
      "\n",
      "<post_vec>\n",
      "   (0, 18)\t1\n",
      "  (0, 21)\t1\n",
      "  (0, 24)\t1\n",
      "  (1, 8)\t1\n",
      "  (1, 11)\t2\n",
      "  (1, 12)\t1\n",
      "  (1, 13)\t1\n",
      "  (1, 16)\t1\n",
      "  (2, 3)\t1\n",
      "  (2, 4)\t6\n",
      "  (2, 13)\t1\n",
      "  (2, 14)\t1\n",
      "  (2, 15)\t2\n",
      "  (2, 16)\t1\n",
      "  (2, 21)\t1\n",
      "  (2, 22)\t1\n",
      "  (2, 24)\t5\n",
      "  (3, 3)\t1\n",
      "  (3, 14)\t1\n",
      "  (3, 22)\t1\n",
      "  (4, 3)\t1\n",
      "  (4, 14)\t1\n",
      "  (4, 18)\t1\n",
      "  (4, 22)\t2\n",
      "  (5, 3)\t1\n",
      "  (5, 14)\t1\n",
      "  (5, 22)\t1\n",
      "  (6, 22)\t2\n",
      "  (8, 4)\t1\n",
      "  (8, 13)\t1\n",
      "  (8, 24)\t2\n",
      "  (8, 27)\t1\n",
      "  (9, 8)\t1\n",
      "  (9, 11)\t1\n",
      "  (9, 12)\t2\n",
      "\n",
      "<post_vec array form>\n",
      " [[0 0 0 0 0 0 0 0 0 0 0 0 0 0 0 0 0 0 1 0 0 1 0 0 1 0 0 0]\n",
      " [0 0 0 0 0 0 0 0 1 0 0 2 1 1 0 0 1 0 0 0 0 0 0 0 0 0 0 0]\n",
      " [0 0 0 1 6 0 0 0 0 0 0 0 0 1 1 2 1 0 0 0 0 1 1 0 5 0 0 0]\n",
      " [0 0 0 1 0 0 0 0 0 0 0 0 0 0 1 0 0 0 0 0 0 0 1 0 0 0 0 0]\n",
      " [0 0 0 1 0 0 0 0 0 0 0 0 0 0 1 0 0 0 1 0 0 0 2 0 0 0 0 0]\n",
      " [0 0 0 1 0 0 0 0 0 0 0 0 0 0 1 0 0 0 0 0 0 0 1 0 0 0 0 0]\n",
      " [0 0 0 0 0 0 0 0 0 0 0 0 0 0 0 0 0 0 0 0 0 0 2 0 0 0 0 0]\n",
      " [0 0 0 0 0 0 0 0 0 0 0 0 0 0 0 0 0 0 0 0 0 0 0 0 0 0 0 0]\n",
      " [0 0 0 0 1 0 0 0 0 0 0 0 0 1 0 0 0 0 0 0 0 0 0 0 2 0 0 1]\n",
      " [0 0 0 0 0 0 0 0 1 0 0 1 2 0 0 0 0 0 0 0 0 0 0 0 0 0 0 0]]\n",
      "\n",
      "#sample: 10, #features: 28\n",
      "\n",
      "feature_names = ['격차', '관리', '뉴스', '대비', '리서치', '문재인', '상승', '선거', '심의', '안철수', '양상', '여론조사', '위원회', '일보', '전주', '조사', '종합', '중앙', '지지율', '코리아타임즈', '통계', '평균', '포인트', '하락', '한국', '혼전', '홍준표', '후보']\n"
     ]
    }
   ],
   "source": [
    "vector = CountVectorizer().fit(totals_max_words)\n",
    "total_train = vector.transform(test_article_list)\n",
    "\n",
    "print(\"\\n<post_vec>\\n\",total_train)\n",
    "print(\"\\n<post_vec array form>\\n\",total_train.toarray())\n",
    "total_num_samples, total_num_features = total_train.shape\n",
    "#vectorizer가 예상 단어를 알 수 있도록 vectorizer에게 전체 데이터셋을 알려야 한다.\n",
    "\n",
    "print(\"\\n#sample: %d, #features: %d\" % (total_num_samples,total_num_features))\n",
    "#e5개의 게시물에는 25개의 각기 다른 단어가 있다.\n",
    "print(\"\\nfeature_names =\",vector.get_feature_names())\n",
    "#25개의 각기 다른 단어들을 출력해보았다."
   ]
  },
  {
   "cell_type": "code",
   "execution_count": 91,
   "metadata": {},
   "outputs": [
    {
     "data": {
      "text/plain": [
       "[23,\n",
       " 32,\n",
       " 3,\n",
       " 18,\n",
       " 13,\n",
       " 0,\n",
       " 21,\n",
       " 15,\n",
       " 31,\n",
       " 2,\n",
       " 6,\n",
       " 10,\n",
       " 17,\n",
       " 28,\n",
       " 14,\n",
       " 35,\n",
       " 34,\n",
       " 16,\n",
       " 12,\n",
       " 22,\n",
       " 4,\n",
       " 19,\n",
       " 9,\n",
       " 29,\n",
       " 8,\n",
       " 7,\n",
       " 1,\n",
       " 5]"
      ]
     },
     "execution_count": 91,
     "metadata": {},
     "output_type": "execute_result"
    }
   ],
   "source": [
    "total_words_which_index=[totals_max_words.index(i) for i in vector.get_feature_names()]\n",
    "total_words_which_index"
   ]
  },
  {
   "cell_type": "code",
   "execution_count": 92,
   "metadata": {},
   "outputs": [
    {
     "data": {
      "text/html": [
       "<div>\n",
       "<style>\n",
       "    .dataframe thead tr:only-child th {\n",
       "        text-align: right;\n",
       "    }\n",
       "\n",
       "    .dataframe thead th {\n",
       "        text-align: left;\n",
       "    }\n",
       "\n",
       "    .dataframe tbody tr th {\n",
       "        vertical-align: top;\n",
       "    }\n",
       "</style>\n",
       "<table border=\"1\" class=\"dataframe\">\n",
       "  <thead>\n",
       "    <tr style=\"text-align: right;\">\n",
       "      <th></th>\n",
       "      <th>count</th>\n",
       "      <th>word</th>\n",
       "    </tr>\n",
       "  </thead>\n",
       "  <tbody>\n",
       "    <tr>\n",
       "      <th>0</th>\n",
       "      <td>2</td>\n",
       "      <td>격차</td>\n",
       "    </tr>\n",
       "    <tr>\n",
       "      <th>1</th>\n",
       "      <td>2</td>\n",
       "      <td>관리</td>\n",
       "    </tr>\n",
       "    <tr>\n",
       "      <th>2</th>\n",
       "      <td>12</td>\n",
       "      <td>뉴스</td>\n",
       "    </tr>\n",
       "    <tr>\n",
       "      <th>3</th>\n",
       "      <td>4</td>\n",
       "      <td>대비</td>\n",
       "    </tr>\n",
       "    <tr>\n",
       "      <th>4</th>\n",
       "      <td>7</td>\n",
       "      <td>리서치</td>\n",
       "    </tr>\n",
       "    <tr>\n",
       "      <th>5</th>\n",
       "      <td>13</td>\n",
       "      <td>문재인</td>\n",
       "    </tr>\n",
       "    <tr>\n",
       "      <th>6</th>\n",
       "      <td>3</td>\n",
       "      <td>상승</td>\n",
       "    </tr>\n",
       "    <tr>\n",
       "      <th>7</th>\n",
       "      <td>4</td>\n",
       "      <td>선거</td>\n",
       "    </tr>\n",
       "    <tr>\n",
       "      <th>8</th>\n",
       "      <td>2</td>\n",
       "      <td>심의</td>\n",
       "    </tr>\n",
       "    <tr>\n",
       "      <th>9</th>\n",
       "      <td>13</td>\n",
       "      <td>안철수</td>\n",
       "    </tr>\n",
       "    <tr>\n",
       "      <th>10</th>\n",
       "      <td>12</td>\n",
       "      <td>양상</td>\n",
       "    </tr>\n",
       "    <tr>\n",
       "      <th>11</th>\n",
       "      <td>7</td>\n",
       "      <td>여론조사</td>\n",
       "    </tr>\n",
       "    <tr>\n",
       "      <th>12</th>\n",
       "      <td>4</td>\n",
       "      <td>위원회</td>\n",
       "    </tr>\n",
       "    <tr>\n",
       "      <th>13</th>\n",
       "      <td>2</td>\n",
       "      <td>일보</td>\n",
       "    </tr>\n",
       "    <tr>\n",
       "      <th>14</th>\n",
       "      <td>4</td>\n",
       "      <td>전주</td>\n",
       "    </tr>\n",
       "    <tr>\n",
       "      <th>15</th>\n",
       "      <td>2</td>\n",
       "      <td>조사</td>\n",
       "    </tr>\n",
       "    <tr>\n",
       "      <th>16</th>\n",
       "      <td>2</td>\n",
       "      <td>종합</td>\n",
       "    </tr>\n",
       "    <tr>\n",
       "      <th>17</th>\n",
       "      <td>4</td>\n",
       "      <td>중앙</td>\n",
       "    </tr>\n",
       "    <tr>\n",
       "      <th>18</th>\n",
       "      <td>7</td>\n",
       "      <td>지지율</td>\n",
       "    </tr>\n",
       "    <tr>\n",
       "      <th>19</th>\n",
       "      <td>2</td>\n",
       "      <td>코리아타임즈</td>\n",
       "    </tr>\n",
       "    <tr>\n",
       "      <th>20</th>\n",
       "      <td>12</td>\n",
       "      <td>통계</td>\n",
       "    </tr>\n",
       "    <tr>\n",
       "      <th>21</th>\n",
       "      <td>3</td>\n",
       "      <td>평균</td>\n",
       "    </tr>\n",
       "    <tr>\n",
       "      <th>22</th>\n",
       "      <td>7</td>\n",
       "      <td>포인트</td>\n",
       "    </tr>\n",
       "    <tr>\n",
       "      <th>23</th>\n",
       "      <td>2</td>\n",
       "      <td>하락</td>\n",
       "    </tr>\n",
       "    <tr>\n",
       "      <th>24</th>\n",
       "      <td>9</td>\n",
       "      <td>한국</td>\n",
       "    </tr>\n",
       "    <tr>\n",
       "      <th>25</th>\n",
       "      <td>12</td>\n",
       "      <td>혼전</td>\n",
       "    </tr>\n",
       "    <tr>\n",
       "      <th>26</th>\n",
       "      <td>13</td>\n",
       "      <td>홍준표</td>\n",
       "    </tr>\n",
       "    <tr>\n",
       "      <th>27</th>\n",
       "      <td>12</td>\n",
       "      <td>후보</td>\n",
       "    </tr>\n",
       "  </tbody>\n",
       "</table>\n",
       "</div>"
      ],
      "text/plain": [
       "    count    word\n",
       "0       2      격차\n",
       "1       2      관리\n",
       "2      12      뉴스\n",
       "3       4      대비\n",
       "4       7     리서치\n",
       "5      13     문재인\n",
       "6       3      상승\n",
       "7       4      선거\n",
       "8       2      심의\n",
       "9      13     안철수\n",
       "10     12      양상\n",
       "11      7    여론조사\n",
       "12      4     위원회\n",
       "13      2      일보\n",
       "14      4      전주\n",
       "15      2      조사\n",
       "16      2      종합\n",
       "17      4      중앙\n",
       "18      7     지지율\n",
       "19      2  코리아타임즈\n",
       "20     12      통계\n",
       "21      3      평균\n",
       "22      7     포인트\n",
       "23      2      하락\n",
       "24      9      한국\n",
       "25     12      혼전\n",
       "26     13     홍준표\n",
       "27     12      후보"
      ]
     },
     "execution_count": 92,
     "metadata": {},
     "output_type": "execute_result"
    }
   ],
   "source": [
    "words_converter = lambda x: totals_max_words[x]\n",
    "count_converter = lambda x: totals_count_words[x]\n",
    "total_words_matrix=pd.Series(total_words_which_index).apply(words_converter)\n",
    "total_count_matrix=pd.Series(total_words_which_index).apply(count_converter)\n",
    "total_new_matrix=pd.DataFrame({'word': total_words_matrix,'count': total_count_matrix})\n",
    "total_new_matrix"
   ]
  },
  {
   "cell_type": "code",
   "execution_count": 93,
   "metadata": {
    "scrolled": true
   },
   "outputs": [
    {
     "data": {
      "text/plain": [
       "array([[0, 0, 0, 0, 0, 0, 0, 0, 0, 0, 0, 0, 0, 0, 0, 0, 0, 0, 1, 0, 0, 1,\n",
       "        0, 0, 1, 0, 0, 0],\n",
       "       [0, 0, 0, 0, 0, 0, 0, 0, 1, 0, 0, 2, 1, 1, 0, 0, 1, 0, 0, 0, 0, 0,\n",
       "        0, 0, 0, 0, 0, 0],\n",
       "       [0, 0, 0, 1, 6, 0, 0, 0, 0, 0, 0, 0, 0, 1, 1, 2, 1, 0, 0, 0, 0, 1,\n",
       "        1, 0, 5, 0, 0, 0],\n",
       "       [0, 0, 0, 1, 0, 0, 0, 0, 0, 0, 0, 0, 0, 0, 1, 0, 0, 0, 0, 0, 0, 0,\n",
       "        1, 0, 0, 0, 0, 0],\n",
       "       [0, 0, 0, 1, 0, 0, 0, 0, 0, 0, 0, 0, 0, 0, 1, 0, 0, 0, 1, 0, 0, 0,\n",
       "        2, 0, 0, 0, 0, 0],\n",
       "       [0, 0, 0, 1, 0, 0, 0, 0, 0, 0, 0, 0, 0, 0, 1, 0, 0, 0, 0, 0, 0, 0,\n",
       "        1, 0, 0, 0, 0, 0],\n",
       "       [0, 0, 0, 0, 0, 0, 0, 0, 0, 0, 0, 0, 0, 0, 0, 0, 0, 0, 0, 0, 0, 0,\n",
       "        2, 0, 0, 0, 0, 0],\n",
       "       [0, 0, 0, 0, 0, 0, 0, 0, 0, 0, 0, 0, 0, 0, 0, 0, 0, 0, 0, 0, 0, 0,\n",
       "        0, 0, 0, 0, 0, 0],\n",
       "       [0, 0, 0, 0, 1, 0, 0, 0, 0, 0, 0, 0, 0, 1, 0, 0, 0, 0, 0, 0, 0, 0,\n",
       "        0, 0, 2, 0, 0, 1],\n",
       "       [0, 0, 0, 0, 0, 0, 0, 0, 1, 0, 0, 1, 2, 0, 0, 0, 0, 0, 0, 0, 0, 0,\n",
       "        0, 0, 0, 0, 0, 0]])"
      ]
     },
     "execution_count": 93,
     "metadata": {},
     "output_type": "execute_result"
    }
   ],
   "source": [
    "total_train.toarray()"
   ]
  },
  {
   "cell_type": "code",
   "execution_count": 94,
   "metadata": {
    "scrolled": false
   },
   "outputs": [
    {
     "name": "stderr",
     "output_type": "stream",
     "text": [
      "/Users/jinseokryu/anaconda/envs/tensorflow/lib/python3.5/site-packages/ipykernel_launcher.py:1: DeprecationWarning: \n",
      ".ix is deprecated. Please use\n",
      ".loc for label based indexing or\n",
      ".iloc for positional indexing\n",
      "\n",
      "See the documentation here:\n",
      "http://pandas.pydata.org/pandas-docs/stable/indexing.html#deprecate_ix\n",
      "  \"\"\"Entry point for launching an IPython kernel.\n"
     ]
    },
    {
     "data": {
      "text/plain": [
       "array([19, 24, 113, 15, 29, 15, 14, 0, 39, 17], dtype=object)"
      ]
     },
     "execution_count": 94,
     "metadata": {},
     "output_type": "execute_result"
    }
   ],
   "source": [
    "total_check=np.array(pd.DataFrame(np.dot(total_train.toarray(),total_new_matrix)).ix[:,0])\n",
    "total_check"
   ]
  },
  {
   "cell_type": "code",
   "execution_count": 95,
   "metadata": {},
   "outputs": [
    {
     "data": {
      "text/plain": [
       "array([False, False,  True, False,  True, False, False, False,  True, False], dtype=bool)"
      ]
     },
     "execution_count": 95,
     "metadata": {},
     "output_type": "execute_result"
    }
   ],
   "source": [
    "total_index = np.array(total_check/sum(total_check) > 1/len(total_check))\n",
    "total_index"
   ]
  },
  {
   "cell_type": "code",
   "execution_count": 96,
   "metadata": {},
   "outputs": [
    {
     "data": {
      "text/plain": [
       "[2, 4, 8]"
      ]
     },
     "execution_count": 96,
     "metadata": {},
     "output_type": "execute_result"
    }
   ],
   "source": [
    "total_test_index=[i for i in range(len(total_index)) if total_index[i]==True]\n",
    "total_test_index"
   ]
  },
  {
   "cell_type": "code",
   "execution_count": 97,
   "metadata": {
    "scrolled": true
   },
   "outputs": [
    {
     "name": "stdout",
     "output_type": "stream",
     "text": [
      "※ 한국 리서치( 내일신문), 리서치 앤 리서치, 한국사회 여론 연구소, 칸 타 코리아, 조원 씨 앤 아이, 메트릭스 코퍼 레이션, 알 앤 써 치, 한국 리서치( 한국 일보· 코리아 타임즈), 리얼 미터, 한국 리서치 (JTBC ·25 일 조사), 한국 리서치 (JTBC ·26 일 조사) 자료 종합, 문 후보의 평균 지지율은 40.4% 로 전주 (42.5%) 대비 2.1% 포인트 하락한 1위였는데요. ,2 위 안 후보의 지지율은 30% 선이 무너졌습니다.\n",
      "위 간 지지율 격차는 12.1% 포인트 차. 전주 (9.7%) 대비 2.4% 포인트 더 벌어졌습니다. ,\n",
      "특히 한국 리서치( 한국 일보· 코리아 타임즈) 여론조사에서는 심 후보의 19~29 세 지지율이 17.8% 로 안 후보 (16.7% )를 제치고 2위를 차지하기도 했죠.,\n"
     ]
    }
   ],
   "source": [
    "for i in total_test_index:\n",
    "    print(test_article_list[i])"
   ]
  },
  {
   "cell_type": "code",
   "execution_count": 98,
   "metadata": {},
   "outputs": [
    {
     "data": {
      "text/plain": [
       "'지난주 대선후보 여론조사에서는 더불어민주당 문재인 후보와 국민의당 안철수 후보의 평균 지지율 격차가 더 벌어진 가운데 자유한국당 홍준표 후보의 지지율이 처음으로 두자리 수를 기록했습니다. ,[동아일보],22~28일 중앙선거관리위원회 중앙선거여론조사심의위원회에 등록된 여론조사 중 전국 단위, 5자구도 질문을 포함한 11건의 여론조사를 종합 분석해 평균치를 낸 결과입니다.,※한국리서치(내일신문), 리서치앤리서치, 한국사회여론연구소, 칸타코리아, 조원씨앤아이, 메트릭스코퍼레이션, 알앤써치, 한국리서치(한국일보·코리아타임즈), 리얼미터, 한국리서치(JTBC·25일 조사), 한국리서치(JTBC·26일 조사) 자료 종합,문 후보의 평균 지지율은 40.4%로 전주(42.5%) 대비 2.1%포인트 하락한 1위였는데요. ,2위 안 후보의 지지율은 30% 선이 무너졌습니다. 전주(32.8%) 대비 4.5%포인트 하락한 28.3%였죠. ,1,2위간 지지율 격차는 12.1%포인트 차. 전주(9.7%) 대비 2.4%포인트 더 벌어졌습니다. ,반면 3위 홍 후보는 ‘돼지발정제’ 논란에도 전주(9.5%) 대비 1.5%포인트 상승한 11.0%였습니다. ,4위 정의당 심상정 후보는 1.6%포인트 상승한 5.1%, 5위 바른정당 유승민 후보는 0.8%포인트 상승한 4.2%였습니다.,연령별 지지율은 차이가 있었는데요. ,심 후보는 19~29세(10.7%) 유권자 층에서 강세를 보였습니다. ,특히 한국리서치(한국일보·코리아타임즈) 여론조사에서는 심 후보의 19~29세 지지율이 17.8%로 안 후보(16.7%)를 제치고 2위를 차지하기도 했죠.,※각 여론조사와 관련한 자세한 내용은 중앙선거관리위원회 중앙선거여론조사심의위원회 홈페이지(www.nesdc.go.kr) 참조.'"
      ]
     },
     "execution_count": 98,
     "metadata": {},
     "output_type": "execute_result"
    }
   ],
   "source": [
    "test_article"
   ]
  },
  {
   "cell_type": "code",
   "execution_count": 99,
   "metadata": {},
   "outputs": [
    {
     "data": {
      "text/plain": [
       "'[통계뉴스]문재인 앞서고 안철수-홍준표 혼전 양상'"
      ]
     },
     "execution_count": 99,
     "metadata": {},
     "output_type": "execute_result"
    }
   ],
   "source": [
    "test_title"
   ]
  },
  {
   "cell_type": "markdown",
   "metadata": {},
   "source": [
    "# Summary"
   ]
  },
  {
   "cell_type": "markdown",
   "metadata": {},
   "source": [
    "### 뉴스 기사 제목"
   ]
  },
  {
   "cell_type": "code",
   "execution_count": 100,
   "metadata": {},
   "outputs": [
    {
     "data": {
      "text/plain": [
       "'[통계뉴스]문재인 앞서고 안철수-홍준표 혼전 양상'"
      ]
     },
     "execution_count": 100,
     "metadata": {},
     "output_type": "execute_result"
    }
   ],
   "source": [
    "test_title"
   ]
  },
  {
   "cell_type": "markdown",
   "metadata": {},
   "source": [
    "### 뉴스 기사 내용"
   ]
  },
  {
   "cell_type": "code",
   "execution_count": 101,
   "metadata": {},
   "outputs": [
    {
     "data": {
      "text/plain": [
       "'지난주 대선후보 여론조사에서는 더불어민주당 문재인 후보와 국민의당 안철수 후보의 평균 지지율 격차가 더 벌어진 가운데 자유한국당 홍준표 후보의 지지율이 처음으로 두자리 수를 기록했습니다. ,[동아일보],22~28일 중앙선거관리위원회 중앙선거여론조사심의위원회에 등록된 여론조사 중 전국 단위, 5자구도 질문을 포함한 11건의 여론조사를 종합 분석해 평균치를 낸 결과입니다.,※한국리서치(내일신문), 리서치앤리서치, 한국사회여론연구소, 칸타코리아, 조원씨앤아이, 메트릭스코퍼레이션, 알앤써치, 한국리서치(한국일보·코리아타임즈), 리얼미터, 한국리서치(JTBC·25일 조사), 한국리서치(JTBC·26일 조사) 자료 종합,문 후보의 평균 지지율은 40.4%로 전주(42.5%) 대비 2.1%포인트 하락한 1위였는데요. ,2위 안 후보의 지지율은 30% 선이 무너졌습니다. 전주(32.8%) 대비 4.5%포인트 하락한 28.3%였죠. ,1,2위간 지지율 격차는 12.1%포인트 차. 전주(9.7%) 대비 2.4%포인트 더 벌어졌습니다. ,반면 3위 홍 후보는 ‘돼지발정제’ 논란에도 전주(9.5%) 대비 1.5%포인트 상승한 11.0%였습니다. ,4위 정의당 심상정 후보는 1.6%포인트 상승한 5.1%, 5위 바른정당 유승민 후보는 0.8%포인트 상승한 4.2%였습니다.,연령별 지지율은 차이가 있었는데요. ,심 후보는 19~29세(10.7%) 유권자 층에서 강세를 보였습니다. ,특히 한국리서치(한국일보·코리아타임즈) 여론조사에서는 심 후보의 19~29세 지지율이 17.8%로 안 후보(16.7%)를 제치고 2위를 차지하기도 했죠.,※각 여론조사와 관련한 자세한 내용은 중앙선거관리위원회 중앙선거여론조사심의위원회 홈페이지(www.nesdc.go.kr) 참조.'"
      ]
     },
     "execution_count": 101,
     "metadata": {},
     "output_type": "execute_result"
    }
   ],
   "source": [
    "test_article"
   ]
  },
  {
   "cell_type": "markdown",
   "metadata": {},
   "source": [
    "### textrank 이용한 요약"
   ]
  },
  {
   "cell_type": "code",
   "execution_count": 102,
   "metadata": {},
   "outputs": [
    {
     "name": "stdout",
     "output_type": "stream",
     "text": [
      ",1,2위간 지지율 격차는 12.1%포인트 차.\n",
      ",반면 3위 홍 후보는 ‘돼지발정제’ 논란에도 전주(9.5%) 대비 1.5%포인트 상승한 11.0%였습니다.\n",
      ",특히 한국리서치(한국일보·코리아타임즈) 여론조사에서는 심 후보의 19~29세 지지율이 17.8%로 안 후보(16.7%)를 제치고 2위를 차지하기도 했죠.,※각 여론조사와 관련한 자세한 내용은 중앙선거관리위원회 중앙선거여론조사심의위원회 홈페이지(www.nesdc.go.kr) 참조.\n"
     ]
    }
   ],
   "source": [
    "print(textrank.summarize())"
   ]
  },
  {
   "cell_type": "markdown",
   "metadata": {},
   "source": [
    "### lexrank 이용한 요약"
   ]
  },
  {
   "cell_type": "code",
   "execution_count": 103,
   "metadata": {},
   "outputs": [
    {
     "name": "stdout",
     "output_type": "stream",
     "text": [
      ",반면 3위 홍 후보는 ‘돼지발정제’ 논란에도 전주(9.5%) 대비 1.5%포인트 상승한 11.0%였습니다\n",
      ",4위 정의당 심상정 후보는 1.6%포인트 상승한 5.1%, 5위 바른정당 유승민 후보는 0.8%포인트 상승한 4.2%였습니다.,연령별 지지율은 차이가 있었는데요\n"
     ]
    }
   ],
   "source": [
    "for summary in summaries:\n",
    "    print(summary)"
   ]
  },
  {
   "cell_type": "markdown",
   "metadata": {},
   "source": [
    "### space bar 기준 요약"
   ]
  },
  {
   "cell_type": "code",
   "execution_count": 104,
   "metadata": {},
   "outputs": [
    {
     "name": "stdout",
     "output_type": "stream",
     "text": [
      "[ 동아 일보] ,22 ~28 일 중앙선거관리 위원회 중앙선거 여론조사 심의 위원회에 등록된 여론조사 중 전국 단위, 5 자구도 질문을 포함한 11건의 여론조사를 종합 분석해 평균치를 낸 결과입니다.,\n",
      "※ 한국 리서치( 내일신문), 리서치 앤 리서치, 한국사회 여론 연구소, 칸 타 코리아, 조원 씨 앤 아이, 메트릭스 코퍼 레이션, 알 앤 써 치, 한국 리서치( 한국 일보· 코리아 타임즈), 리얼 미터, 한국 리서치 (JTBC ·25 일 조사), 한국 리서치 (JTBC ·26 일 조사) 자료 종합, 문 후보의 평균 지지율은 40.4% 로 전주 (42.5%) 대비 2.1% 포인트 하락한 1위였는데요. ,2 위 안 후보의 지지율은 30% 선이 무너졌습니다.\n",
      "특히 한국 리서치( 한국 일보· 코리아 타임즈) 여론조사에서는 심 후보의 19~29 세 지지율이 17.8% 로 안 후보 (16.7% )를 제치고 2위를 차지하기도 했죠.,\n"
     ]
    }
   ],
   "source": [
    "for i in test_index:\n",
    "    print(test_article_list[i])"
   ]
  },
  {
   "cell_type": "markdown",
   "metadata": {},
   "source": [
    "### twitter 사전 이용한 요약 + 전체적으로 빈도수 높은 단어에 가중치"
   ]
  },
  {
   "cell_type": "code",
   "execution_count": 105,
   "metadata": {},
   "outputs": [
    {
     "name": "stdout",
     "output_type": "stream",
     "text": [
      "※ 한국 리서치( 내일신문), 리서치 앤 리서치, 한국사회 여론 연구소, 칸 타 코리아, 조원 씨 앤 아이, 메트릭스 코퍼 레이션, 알 앤 써 치, 한국 리서치( 한국 일보· 코리아 타임즈), 리얼 미터, 한국 리서치 (JTBC ·25 일 조사), 한국 리서치 (JTBC ·26 일 조사) 자료 종합, 문 후보의 평균 지지율은 40.4% 로 전주 (42.5%) 대비 2.1% 포인트 하락한 1위였는데요. ,2 위 안 후보의 지지율은 30% 선이 무너졌습니다.\n",
      "위 간 지지율 격차는 12.1% 포인트 차. 전주 (9.7%) 대비 2.4% 포인트 더 벌어졌습니다. ,\n",
      "특히 한국 리서치( 한국 일보· 코리아 타임즈) 여론조사에서는 심 후보의 19~29 세 지지율이 17.8% 로 안 후보 (16.7% )를 제치고 2위를 차지하기도 했죠.,\n"
     ]
    }
   ],
   "source": [
    "for i in doc_test_index:\n",
    "    print(test_article_list[i])"
   ]
  },
  {
   "cell_type": "markdown",
   "metadata": {},
   "source": [
    "### twitter 사전을 이용한 요약 + 전체적으로 빈도수 높은 단어에 가중치 + 제목에 가중치"
   ]
  },
  {
   "cell_type": "code",
   "execution_count": 106,
   "metadata": {},
   "outputs": [
    {
     "name": "stdout",
     "output_type": "stream",
     "text": [
      "※ 한국 리서치( 내일신문), 리서치 앤 리서치, 한국사회 여론 연구소, 칸 타 코리아, 조원 씨 앤 아이, 메트릭스 코퍼 레이션, 알 앤 써 치, 한국 리서치( 한국 일보· 코리아 타임즈), 리얼 미터, 한국 리서치 (JTBC ·25 일 조사), 한국 리서치 (JTBC ·26 일 조사) 자료 종합, 문 후보의 평균 지지율은 40.4% 로 전주 (42.5%) 대비 2.1% 포인트 하락한 1위였는데요. ,2 위 안 후보의 지지율은 30% 선이 무너졌습니다.\n",
      "위 간 지지율 격차는 12.1% 포인트 차. 전주 (9.7%) 대비 2.4% 포인트 더 벌어졌습니다. ,\n",
      "특히 한국 리서치( 한국 일보· 코리아 타임즈) 여론조사에서는 심 후보의 19~29 세 지지율이 17.8% 로 안 후보 (16.7% )를 제치고 2위를 차지하기도 했죠.,\n"
     ]
    }
   ],
   "source": [
    "for i in total_test_index:\n",
    "    print(test_article_list[i])"
   ]
  }
 ],
 "metadata": {
  "kernelspec": {
   "display_name": "Python 3",
   "language": "python",
   "name": "python3"
  },
  "language_info": {
   "codemirror_mode": {
    "name": "ipython",
    "version": 3
   },
   "file_extension": ".py",
   "mimetype": "text/x-python",
   "name": "python",
   "nbconvert_exporter": "python",
   "pygments_lexer": "ipython3",
   "version": "3.5.3"
  }
 },
 "nbformat": 4,
 "nbformat_minor": 2
}
